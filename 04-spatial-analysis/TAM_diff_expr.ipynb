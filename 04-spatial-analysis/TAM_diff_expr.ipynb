{
 "cells": [
  {
   "cell_type": "code",
   "execution_count": null,
   "id": "4a02805a-9e4e-4e8c-875e-bb7d2b1a70cb",
   "metadata": {},
   "outputs": [],
   "source": [
    "# Running differential expression on TAM clusters\n",
    "\n",
    "Had to install new software (diffxpy), hence the new notebook"
   ]
  },
  {
   "cell_type": "code",
   "execution_count": 34,
   "id": "93b9e5b2-9b1a-42cc-b04e-f6be228828a5",
   "metadata": {},
   "outputs": [
    {
     "ename": "ModuleNotFoundError",
     "evalue": "No module named 'scanpy'",
     "output_type": "error",
     "traceback": [
      "\u001b[0;31m---------------------------------------------------------------------------\u001b[0m",
      "\u001b[0;31mModuleNotFoundError\u001b[0m                       Traceback (most recent call last)",
      "Input \u001b[0;32mIn [34]\u001b[0m, in \u001b[0;36m<cell line: 2>\u001b[0;34m()\u001b[0m\n\u001b[1;32m      1\u001b[0m \u001b[38;5;28;01mimport\u001b[39;00m \u001b[38;5;21;01manndata\u001b[39;00m \u001b[38;5;28;01mas\u001b[39;00m \u001b[38;5;21;01mad\u001b[39;00m\n\u001b[0;32m----> 2\u001b[0m \u001b[38;5;28;01mimport\u001b[39;00m \u001b[38;5;21;01mscanpy\u001b[39;00m \u001b[38;5;28;01mas\u001b[39;00m \u001b[38;5;21;01msc\u001b[39;00m\n\u001b[1;32m      3\u001b[0m \u001b[38;5;28;01mimport\u001b[39;00m \u001b[38;5;21;01mmatplotlib\u001b[39;00m\u001b[38;5;21;01m.\u001b[39;00m\u001b[38;5;21;01mpyplot\u001b[39;00m \u001b[38;5;28;01mas\u001b[39;00m \u001b[38;5;21;01mplt\u001b[39;00m\n\u001b[1;32m      4\u001b[0m \u001b[38;5;28;01mimport\u001b[39;00m \u001b[38;5;21;01mseaborn\u001b[39;00m \u001b[38;5;28;01mas\u001b[39;00m \u001b[38;5;21;01msns\u001b[39;00m\n",
      "\u001b[0;31mModuleNotFoundError\u001b[0m: No module named 'scanpy'"
     ]
    }
   ],
   "source": [
    "import anndata as ad\n",
    "import matplotlib.pyplot as plt\n",
    "import seaborn as sns\n",
    "import logging\n",
    "import numpy as np\n",
    "import pandas as pd\n",
    "import scipy.stats\n",
    "import diffxpy.api as de"
   ]
  },
  {
   "cell_type": "code",
   "execution_count": 3,
   "id": "06c19f3d-9656-4981-a252-104c04d864d6",
   "metadata": {},
   "outputs": [
    {
     "name": "stderr",
     "output_type": "stream",
     "text": [
      "/tmp/ipykernel_3001799/3295157826.py:11: FutureWarning: X.dtype being converted to np.float32 from float64. In the next version of anndata (0.9) conversion will not be automatic. Pass dtype explicitly to avoid this warning. Pass `AnnData(X, dtype=X.dtype, ...)` to get the future behavour.\n",
      "  sim_data = ad.AnnData(\n",
      "/mnt/isilon/cscb/software/anaconda3/envs/diffxpy/lib/python3.10/site-packages/anndata/_core/anndata.py:121: ImplicitModificationWarning: Transforming to str index.\n",
      "  warnings.warn(\"Transforming to str index.\", ImplicitModificationWarning)\n"
     ]
    }
   ],
   "source": [
    "from batchglm.api.models.tf1.glm_nb import Simulator\n",
    "\n",
    "sim = Simulator(num_observations=200, num_features=100)\n",
    "sim.generate_sample_description(num_batches=0, num_conditions=2)\n",
    "sim.generate_params(\n",
    "    rand_fn_loc=lambda shape: np.random.uniform(-0.1, 0.1, shape),\n",
    "    rand_fn_scale=lambda shape: np.random.uniform(0.1, 2, shape)\n",
    ")\n",
    "sim.generate_data()\n",
    "\n",
    "sim_data = ad.AnnData(\n",
    "    X=sim.x,\n",
    "    var=pd.DataFrame(index=[\"gene\" + str(i) for i in range(sim.x.shape[1])]),\n",
    "    obs=sim.sample_description\n",
    ")"
   ]
  },
  {
   "cell_type": "code",
   "execution_count": 24,
   "id": "592b48ec-dbf2-4105-a863-1d82ec683592",
   "metadata": {},
   "outputs": [
    {
     "data": {
      "text/plain": [
       "array(['0', '1'], dtype=object)"
      ]
     },
     "execution_count": 24,
     "metadata": {},
     "output_type": "execute_result"
    }
   ],
   "source": [
    "sim_data.obs['condition'].unique()"
   ]
  },
  {
   "cell_type": "code",
   "execution_count": 3,
   "id": "078dc672-5ee6-4241-b994-188757ad4940",
   "metadata": {},
   "outputs": [
    {
     "name": "stderr",
     "output_type": "stream",
     "text": [
      "/mnt/isilon/cscb/software/anaconda3/envs/diffxpy/lib/python3.10/site-packages/anndata/_core/anndata.py:121: ImplicitModificationWarning: Transforming to str index.\n",
      "  warnings.warn(\"Transforming to str index.\", ImplicitModificationWarning)\n"
     ]
    }
   ],
   "source": [
    "data = ad.read_h5ad('NBL_TAM_clustering.h5ad')"
   ]
  },
  {
   "cell_type": "code",
   "execution_count": 6,
   "id": "5c55ffb5-cc99-416a-9fbb-d789e216cc6d",
   "metadata": {},
   "outputs": [
    {
     "data": {
      "text/plain": [
       "AnnData object with n_obs × n_vars = 138131 × 398\n",
       "    obs: 'cluster', 'x', 'y', 'global_x', 'global_y', 'n_genes', 'n_genes_by_counts', 'total_counts', 'leiden', 'cell_type', 'TAM_cluster'\n",
       "    var: 'n_cells', 'n_cells_by_counts', 'mean_counts', 'pct_dropout_by_counts', 'total_counts', 'mean', 'std'\n",
       "    uns: 'leiden', 'leiden_colors', 'neighbors', 'pca', 'rank_genes_groups', 'umap'\n",
       "    obsm: 'X_pca', 'X_umap'\n",
       "    varm: 'PCs'\n",
       "    obsp: 'connectivities', 'distances'"
      ]
     },
     "execution_count": 6,
     "metadata": {},
     "output_type": "execute_result"
    }
   ],
   "source": [
    "data"
   ]
  },
  {
   "cell_type": "code",
   "execution_count": 4,
   "id": "365836f8-e7ee-4b52-9bae-4919adec2b06",
   "metadata": {},
   "outputs": [
    {
     "data": {
      "text/plain": [
       "View of AnnData object with n_obs × n_vars = 10761 × 398\n",
       "    obs: 'cluster', 'x', 'y', 'global_x', 'global_y', 'n_genes', 'n_genes_by_counts', 'total_counts', 'leiden', 'cell_type', 'TAM_cluster'\n",
       "    var: 'n_cells', 'n_cells_by_counts', 'mean_counts', 'pct_dropout_by_counts', 'total_counts', 'mean', 'std'\n",
       "    uns: 'leiden', 'leiden_colors', 'neighbors', 'pca', 'rank_genes_groups', 'umap'\n",
       "    obsm: 'X_pca', 'X_umap'\n",
       "    varm: 'PCs'\n",
       "    obsp: 'connectivities', 'distances'"
      ]
     },
     "execution_count": 4,
     "metadata": {},
     "output_type": "execute_result"
    }
   ],
   "source": [
    "tam_data = data[data.obs['cell_type']=='Macrophage_TAM', :]\n",
    "tam_data"
   ]
  },
  {
   "cell_type": "code",
   "execution_count": 15,
   "id": "3b01f32a-7088-43c3-8a1e-828e99fe72f5",
   "metadata": {},
   "outputs": [
    {
     "name": "stdout",
     "output_type": "stream",
     "text": [
      "<class 'pandas.core.frame.DataFrame'>\n",
      "Index: 10761 entries, 306 to 218261\n",
      "Data columns (total 11 columns):\n",
      " #   Column             Non-Null Count  Dtype   \n",
      "---  ------             --------------  -----   \n",
      " 0   cluster            10761 non-null  int64   \n",
      " 1   x                  10761 non-null  float64 \n",
      " 2   y                  10761 non-null  float64 \n",
      " 3   global_x           10761 non-null  float64 \n",
      " 4   global_y           10761 non-null  float64 \n",
      " 5   n_genes            10761 non-null  int64   \n",
      " 6   n_genes_by_counts  10761 non-null  int64   \n",
      " 7   total_counts       10761 non-null  float32 \n",
      " 8   leiden             10761 non-null  category\n",
      " 9   cell_type          10761 non-null  category\n",
      " 10  TAM_cluster        10761 non-null  category\n",
      "dtypes: category(3), float32(1), float64(4), int64(3)\n",
      "memory usage: 1004.5+ KB\n"
     ]
    }
   ],
   "source": [
    "tam_data.obs.info()"
   ]
  },
  {
   "cell_type": "code",
   "execution_count": 5,
   "id": "2e1d0d09-669e-4c56-9794-dadf77b04a36",
   "metadata": {},
   "outputs": [
    {
     "name": "stderr",
     "output_type": "stream",
     "text": [
      "/tmp/ipykernel_1510077/1158798154.py:1: ImplicitModificationWarning: Trying to modify attribute `.obs` of view, initializing view as actual.\n",
      "  tam_data.obs['TAM_cluster'] = tam_data.obs['TAM_cluster'].astype(\"category\")\n"
     ]
    }
   ],
   "source": [
    "tam_data.obs['TAM_cluster'] = tam_data.obs['TAM_cluster'].astype(\"category\")"
   ]
  },
  {
   "cell_type": "code",
   "execution_count": 6,
   "id": "b826cfa4-ebf9-474f-81e9-f5f33d1c991c",
   "metadata": {},
   "outputs": [],
   "source": [
    "data.X = data.raw.X"
   ]
  },
  {
   "cell_type": "code",
   "execution_count": 39,
   "id": "9207cb42-dd5f-4b60-95ab-a99f132a1289",
   "metadata": {},
   "outputs": [
    {
     "data": {
      "text/html": [
       "<div>\n",
       "<style scoped>\n",
       "    .dataframe tbody tr th:only-of-type {\n",
       "        vertical-align: middle;\n",
       "    }\n",
       "\n",
       "    .dataframe tbody tr th {\n",
       "        vertical-align: top;\n",
       "    }\n",
       "\n",
       "    .dataframe thead th {\n",
       "        text-align: right;\n",
       "    }\n",
       "</style>\n",
       "<table border=\"1\" class=\"dataframe\">\n",
       "  <thead>\n",
       "    <tr style=\"text-align: right;\">\n",
       "      <th></th>\n",
       "      <th>n_cells</th>\n",
       "      <th>n_cells_by_counts</th>\n",
       "      <th>mean_counts</th>\n",
       "      <th>pct_dropout_by_counts</th>\n",
       "      <th>total_counts</th>\n",
       "      <th>mean</th>\n",
       "      <th>std</th>\n",
       "    </tr>\n",
       "  </thead>\n",
       "  <tbody>\n",
       "    <tr>\n",
       "      <th>count</th>\n",
       "      <td>398.000000</td>\n",
       "      <td>398.000000</td>\n",
       "      <td>398.000000</td>\n",
       "      <td>398.000000</td>\n",
       "      <td>3.980000e+02</td>\n",
       "      <td>398.000000</td>\n",
       "      <td>398.000000</td>\n",
       "    </tr>\n",
       "    <tr>\n",
       "      <th>mean</th>\n",
       "      <td>28311.477387</td>\n",
       "      <td>28311.477387</td>\n",
       "      <td>0.479629</td>\n",
       "      <td>83.921333</td>\n",
       "      <td>8.445361e+04</td>\n",
       "      <td>0.855996</td>\n",
       "      <td>1.355940</td>\n",
       "    </tr>\n",
       "    <tr>\n",
       "      <th>std</th>\n",
       "      <td>27942.950245</td>\n",
       "      <td>27942.950245</td>\n",
       "      <td>0.945998</td>\n",
       "      <td>15.869373</td>\n",
       "      <td>1.665723e+05</td>\n",
       "      <td>0.941918</td>\n",
       "      <td>0.659219</td>\n",
       "    </tr>\n",
       "    <tr>\n",
       "      <th>min</th>\n",
       "      <td>490.000000</td>\n",
       "      <td>490.000000</td>\n",
       "      <td>0.002794</td>\n",
       "      <td>28.452814</td>\n",
       "      <td>4.920000e+02</td>\n",
       "      <td>0.012222</td>\n",
       "      <td>0.212181</td>\n",
       "    </tr>\n",
       "    <tr>\n",
       "      <th>25%</th>\n",
       "      <td>6009.500000</td>\n",
       "      <td>6009.500000</td>\n",
       "      <td>0.045451</td>\n",
       "      <td>74.545380</td>\n",
       "      <td>8.003000e+03</td>\n",
       "      <td>0.162315</td>\n",
       "      <td>0.795742</td>\n",
       "    </tr>\n",
       "    <tr>\n",
       "      <th>50%</th>\n",
       "      <td>17350.000000</td>\n",
       "      <td>17350.000000</td>\n",
       "      <td>0.160662</td>\n",
       "      <td>90.146580</td>\n",
       "      <td>2.828950e+04</td>\n",
       "      <td>0.487047</td>\n",
       "      <td>1.330270</td>\n",
       "    </tr>\n",
       "    <tr>\n",
       "      <th>75%</th>\n",
       "      <td>44820.750000</td>\n",
       "      <td>44820.750000</td>\n",
       "      <td>0.473457</td>\n",
       "      <td>96.587082</td>\n",
       "      <td>8.336675e+04</td>\n",
       "      <td>1.290792</td>\n",
       "      <td>1.928228</td>\n",
       "    </tr>\n",
       "    <tr>\n",
       "      <th>max</th>\n",
       "      <td>125981.000000</td>\n",
       "      <td>125981.000000</td>\n",
       "      <td>7.763580</td>\n",
       "      <td>99.721719</td>\n",
       "      <td>1.367019e+06</td>\n",
       "      <td>4.872831</td>\n",
       "      <td>2.901155</td>\n",
       "    </tr>\n",
       "  </tbody>\n",
       "</table>\n",
       "</div>"
      ],
      "text/plain": [
       "             n_cells  n_cells_by_counts  mean_counts  pct_dropout_by_counts  \\\n",
       "count     398.000000         398.000000   398.000000             398.000000   \n",
       "mean    28311.477387       28311.477387     0.479629              83.921333   \n",
       "std     27942.950245       27942.950245     0.945998              15.869373   \n",
       "min       490.000000         490.000000     0.002794              28.452814   \n",
       "25%      6009.500000        6009.500000     0.045451              74.545380   \n",
       "50%     17350.000000       17350.000000     0.160662              90.146580   \n",
       "75%     44820.750000       44820.750000     0.473457              96.587082   \n",
       "max    125981.000000      125981.000000     7.763580              99.721719   \n",
       "\n",
       "       total_counts        mean         std  \n",
       "count  3.980000e+02  398.000000  398.000000  \n",
       "mean   8.445361e+04    0.855996    1.355940  \n",
       "std    1.665723e+05    0.941918    0.659219  \n",
       "min    4.920000e+02    0.012222    0.212181  \n",
       "25%    8.003000e+03    0.162315    0.795742  \n",
       "50%    2.828950e+04    0.487047    1.330270  \n",
       "75%    8.336675e+04    1.290792    1.928228  \n",
       "max    1.367019e+06    4.872831    2.901155  "
      ]
     },
     "execution_count": 39,
     "metadata": {},
     "output_type": "execute_result"
    }
   ],
   "source": [
    "data.var.describe()"
   ]
  },
  {
   "cell_type": "code",
   "execution_count": 7,
   "id": "9f86f781-41f9-4737-8c05-7069d343f8aa",
   "metadata": {},
   "outputs": [],
   "source": [
    "# need to get the raw values back\n",
    "tam_data.X = tam_data.raw.X"
   ]
  },
  {
   "cell_type": "code",
   "execution_count": 15,
   "id": "7737bf77-6a4b-4296-bf6f-71fde622c471",
   "metadata": {},
   "outputs": [
    {
     "data": {
      "text/plain": [
       "AnnData object with n_obs × n_vars = 10761 × 398\n",
       "    obs: 'cluster', 'x', 'y', 'global_x', 'global_y', 'n_genes', 'n_genes_by_counts', 'total_counts', 'leiden', 'cell_type', 'TAM_cluster'\n",
       "    var: 'n_cells', 'n_cells_by_counts', 'mean_counts', 'pct_dropout_by_counts', 'total_counts', 'mean', 'std'\n",
       "    uns: 'leiden', 'leiden_colors', 'neighbors', 'pca', 'rank_genes_groups', 'umap'\n",
       "    obsm: 'X_pca', 'X_umap'\n",
       "    varm: 'PCs'\n",
       "    obsp: 'connectivities', 'distances'"
      ]
     },
     "execution_count": 15,
     "metadata": {},
     "output_type": "execute_result"
    }
   ],
   "source": [
    "tam_data"
   ]
  },
  {
   "cell_type": "code",
   "execution_count": 8,
   "id": "d32cf29e-ed4d-4cbe-bd5a-bc9492960c4f",
   "metadata": {},
   "outputs": [
    {
     "data": {
      "text/plain": [
       "array([0.       , 0.       , 0.       , 0.       , 0.       , 0.       ,\n",
       "       0.       , 0.       , 0.       , 4.2412281])"
      ]
     },
     "execution_count": 8,
     "metadata": {},
     "output_type": "execute_result"
    }
   ],
   "source": [
    "# np.quantile(tam_data.X, np.arange(0,1,0.1)) # wow, so a lot of zeros...or very little variation\n",
    "np.quantile(data.X, np.arange(0,1,0.1))"
   ]
  },
  {
   "cell_type": "code",
   "execution_count": 14,
   "id": "20ea9cd4-f64f-495d-9916-fc2b7f7c2134",
   "metadata": {},
   "outputs": [
    {
     "data": {
      "text/plain": [
       "array([  16. ,   99.7,  176. ,  314.5,  491.4,  734.5, 1149.8, 1679.9,\n",
       "       2727.6, 4085.1])"
      ]
     },
     "execution_count": 14,
     "metadata": {},
     "output_type": "execute_result"
    }
   ],
   "source": [
    "np.quantile(np.apply_along_axis(lambda x: np.sum(x>0), 0, tam_data.X), np.arange(0,1,0.1))\n"
   ]
  },
  {
   "cell_type": "code",
   "execution_count": 9,
   "id": "bcbada8e-cf86-402b-95a1-a3f00ee70ab2",
   "metadata": {},
   "outputs": [
    {
     "data": {
      "text/plain": [
       "View of AnnData object with n_obs × n_vars = 10761 × 357\n",
       "    obs: 'cluster', 'x', 'y', 'global_x', 'global_y', 'n_genes', 'n_genes_by_counts', 'total_counts', 'leiden', 'cell_type', 'TAM_cluster'\n",
       "    var: 'n_cells', 'n_cells_by_counts', 'mean_counts', 'pct_dropout_by_counts', 'total_counts', 'mean', 'std'\n",
       "    uns: 'leiden', 'leiden_colors', 'neighbors', 'pca', 'rank_genes_groups', 'umap'\n",
       "    obsm: 'X_pca', 'X_umap'\n",
       "    varm: 'PCs'\n",
       "    obsp: 'connectivities', 'distances'"
      ]
     },
     "execution_count": 9,
     "metadata": {},
     "output_type": "execute_result"
    }
   ],
   "source": [
    "# got a float division by zero error, there are likely genes not observed in any of the TAMs\n",
    "# maybe drop genes appearing in less than 100 cells\n",
    "# tam_data_filter = tam_data[:, np.sum(tam_data.X, axis=0)>200]\n",
    "tam_data_filter = tam_data[:, np.apply_along_axis(lambda x: np.sum(x>0) > 100, 0, tam_data.X),]\n",
    "tam_data_filter"
   ]
  },
  {
   "cell_type": "code",
   "execution_count": 10,
   "id": "a7ca63e2-52f0-4b69-9968-68189629f909",
   "metadata": {},
   "outputs": [
    {
     "name": "stderr",
     "output_type": "stream",
     "text": [
      "/mnt/isilon/cscb/software/anaconda3/envs/diffxpy/lib/python3.10/site-packages/pandas/core/generic.py:5604: ImplicitModificationWarning: Trying to modify attribute `.obs` of view, initializing view as actual.\n",
      "  self[name] = value\n"
     ]
    }
   ],
   "source": [
    "tam_data_filter.obs.TAM_cluster = tam_data_filter.obs.TAM_cluster.astype(\"category\")"
   ]
  },
  {
   "cell_type": "code",
   "execution_count": 41,
   "id": "1eef83f0-606d-400c-aafe-1f5ac0c7fc0d",
   "metadata": {},
   "outputs": [
    {
     "data": {
      "text/plain": [
       "<AxesSubplot:ylabel='n_cells_by_counts'>"
      ]
     },
     "execution_count": 41,
     "metadata": {},
     "output_type": "execute_result"
    },
    {
     "data": {
      "image/png": "[encoded data removed]",
      "text/plain": [
       "<Figure size 640x480 with 1 Axes>"
      ]
     },
     "metadata": {},
     "output_type": "display_data"
    }
   ],
   "source": [
    "sns.violinplot(y=tam_data_filter.var['n_cells_by_counts'])\n",
    "# sns.violinplot(y=tam_data_filter.obs['total_counts'])\n"
   ]
  },
  {
   "cell_type": "code",
   "execution_count": 38,
   "id": "a80c0c02-87ca-48f9-9440-c83df5328a22",
   "metadata": {},
   "outputs": [
    {
     "data": {
      "text/plain": [
       "929"
      ]
     },
     "execution_count": 38,
     "metadata": {},
     "output_type": "execute_result"
    }
   ],
   "source": [
    "tam_data_filter.var['n_cells'].min()"
   ]
  },
  {
   "cell_type": "code",
   "execution_count": 35,
   "id": "75a38886-f16b-4f4f-936c-208ab6cf3e21",
   "metadata": {
    "collapsed": true,
    "jupyter": {
     "outputs_hidden": true
    },
    "tags": []
   },
   "outputs": [
    {
     "name": "stdout",
     "output_type": "stream",
     "text": [
      "training location model: False\n",
      "training scale model: True\n",
      "iter   0: ll=10905796.440218\n",
      "iter   1: ll=10905796.440218, converged: 0.00% (loc: 100.00%, scale update: False), in 0.00sec\n",
      "iter   2: ll=10752247.254412, converged: 0.28% (loc: 0.28%, scale update: True), in 4.92sec\n",
      "iter   3: ll=10752247.254412, converged: 0.28% (loc: 100.00%, scale update: False), in 0.00sec\n",
      "iter   4: ll=10751410.295593, converged: 99.72% (loc: 99.72%, scale update: True), in 4.91sec\n",
      "iter   5: ll=10751410.295593, converged: 99.72% (loc: 100.00%, scale update: False), in 0.00sec\n",
      "iter   6: ll=10751410.295593, converged: 100.00% (loc: 100.00%, scale update: True), in 0.08sec\n"
     ]
    },
    {
     "ename": "ZeroDivisionError",
     "evalue": "float division by zero",
     "output_type": "error",
     "traceback": [
      "\u001b[0;31m---------------------------------------------------------------------------\u001b[0m",
      "\u001b[0;31mZeroDivisionError\u001b[0m                         Traceback (most recent call last)",
      "Input \u001b[0;32mIn [35]\u001b[0m, in \u001b[0;36m<cell line: 6>\u001b[0;34m()\u001b[0m\n\u001b[1;32m      1\u001b[0m \u001b[38;5;66;03m# test = de.test.wald(\u001b[39;00m\n\u001b[1;32m      2\u001b[0m \u001b[38;5;66;03m#     data=sim_data,\u001b[39;00m\n\u001b[1;32m      3\u001b[0m \u001b[38;5;66;03m#     formula_loc=\"~ 1 + condition\",\u001b[39;00m\n\u001b[1;32m      4\u001b[0m \u001b[38;5;66;03m#     factor_loc_totest=\"condition\"\u001b[39;00m\n\u001b[1;32m      5\u001b[0m \u001b[38;5;66;03m# )\u001b[39;00m\n\u001b[0;32m----> 6\u001b[0m test \u001b[38;5;241m=\u001b[39m \u001b[43mde\u001b[49m\u001b[38;5;241;43m.\u001b[39;49m\u001b[43mtest\u001b[49m\u001b[38;5;241;43m.\u001b[39;49m\u001b[43mwald\u001b[49m\u001b[43m(\u001b[49m\n\u001b[1;32m      7\u001b[0m \u001b[43m    \u001b[49m\u001b[43mdata\u001b[49m\u001b[38;5;241;43m=\u001b[39;49m\u001b[43mtam_data_filter\u001b[49m\u001b[43m,\u001b[49m\n\u001b[1;32m      8\u001b[0m \u001b[43m    \u001b[49m\u001b[43mformula_loc\u001b[49m\u001b[38;5;241;43m=\u001b[39;49m\u001b[38;5;124;43m\"\u001b[39;49m\u001b[38;5;124;43m~ 1 + TAM_cluster\u001b[39;49m\u001b[38;5;124;43m\"\u001b[39;49m\u001b[43m,\u001b[49m\n\u001b[1;32m      9\u001b[0m \u001b[43m    \u001b[49m\u001b[43mfactor_loc_totest\u001b[49m\u001b[38;5;241;43m=\u001b[39;49m\u001b[38;5;124;43m\"\u001b[39;49m\u001b[38;5;124;43mTAM_cluster\u001b[39;49m\u001b[38;5;124;43m\"\u001b[39;49m\n\u001b[1;32m     10\u001b[0m \u001b[43m)\u001b[49m\n",
      "File \u001b[0;32m/mnt/isilon/cscb/software/diffxpy/diffxpy/testing/tests.py:717\u001b[0m, in \u001b[0;36mwald\u001b[0;34m(data, factor_loc_totest, coef_to_test, formula_loc, formula_scale, as_numeric, init_a, init_b, gene_names, sample_description, dmat_loc, dmat_scale, constraints_loc, constraints_scale, noise_model, size_factors, batch_size, backend, train_args, training_strategy, quick_scale, dtype, **kwargs)\u001b[0m\n\u001b[1;32m    714\u001b[0m col_indices \u001b[38;5;241m=\u001b[39m np\u001b[38;5;241m.\u001b[39marray([np\u001b[38;5;241m.\u001b[39mwhere(constraints_loc_temp[x, :] \u001b[38;5;241m==\u001b[39m \u001b[38;5;241m1\u001b[39m)[\u001b[38;5;241m0\u001b[39m][\u001b[38;5;241m0\u001b[39m] \u001b[38;5;28;01mfor\u001b[39;00m x \u001b[38;5;129;01min\u001b[39;00m col_indices])\n\u001b[1;32m    716\u001b[0m \u001b[38;5;66;03m# Fit model.\u001b[39;00m\n\u001b[0;32m--> 717\u001b[0m model \u001b[38;5;241m=\u001b[39m \u001b[43m_fit\u001b[49m\u001b[43m(\u001b[49m\n\u001b[1;32m    718\u001b[0m \u001b[43m    \u001b[49m\u001b[43mnoise_model\u001b[49m\u001b[38;5;241;43m=\u001b[39;49m\u001b[43mnoise_model\u001b[49m\u001b[43m,\u001b[49m\n\u001b[1;32m    719\u001b[0m \u001b[43m    \u001b[49m\u001b[43mdata\u001b[49m\u001b[38;5;241;43m=\u001b[39;49m\u001b[43mdata\u001b[49m\u001b[43m,\u001b[49m\n\u001b[1;32m    720\u001b[0m \u001b[43m    \u001b[49m\u001b[43mdesign_loc\u001b[49m\u001b[38;5;241;43m=\u001b[39;49m\u001b[43mdesign_loc\u001b[49m\u001b[43m,\u001b[49m\n\u001b[1;32m    721\u001b[0m \u001b[43m    \u001b[49m\u001b[43mdesign_scale\u001b[49m\u001b[38;5;241;43m=\u001b[39;49m\u001b[43mdesign_scale\u001b[49m\u001b[43m,\u001b[49m\n\u001b[1;32m    722\u001b[0m \u001b[43m    \u001b[49m\u001b[43mdesign_loc_names\u001b[49m\u001b[38;5;241;43m=\u001b[39;49m\u001b[43mdesign_loc_names\u001b[49m\u001b[43m,\u001b[49m\n\u001b[1;32m    723\u001b[0m \u001b[43m    \u001b[49m\u001b[43mdesign_scale_names\u001b[49m\u001b[38;5;241;43m=\u001b[39;49m\u001b[43mdesign_scale_names\u001b[49m\u001b[43m,\u001b[49m\n\u001b[1;32m    724\u001b[0m \u001b[43m    \u001b[49m\u001b[43mconstraints_loc\u001b[49m\u001b[38;5;241;43m=\u001b[39;49m\u001b[43mconstraints_loc\u001b[49m\u001b[43m,\u001b[49m\n\u001b[1;32m    725\u001b[0m \u001b[43m    \u001b[49m\u001b[43mconstraints_scale\u001b[49m\u001b[38;5;241;43m=\u001b[39;49m\u001b[43mconstraints_scale\u001b[49m\u001b[43m,\u001b[49m\n\u001b[1;32m    726\u001b[0m \u001b[43m    \u001b[49m\u001b[43minit_a\u001b[49m\u001b[38;5;241;43m=\u001b[39;49m\u001b[43minit_a\u001b[49m\u001b[43m,\u001b[49m\n\u001b[1;32m    727\u001b[0m \u001b[43m    \u001b[49m\u001b[43minit_b\u001b[49m\u001b[38;5;241;43m=\u001b[39;49m\u001b[43minit_b\u001b[49m\u001b[43m,\u001b[49m\n\u001b[1;32m    728\u001b[0m \u001b[43m    \u001b[49m\u001b[43mgene_names\u001b[49m\u001b[38;5;241;43m=\u001b[39;49m\u001b[43mgene_names\u001b[49m\u001b[43m,\u001b[49m\n\u001b[1;32m    729\u001b[0m \u001b[43m    \u001b[49m\u001b[43msize_factors\u001b[49m\u001b[38;5;241;43m=\u001b[39;49m\u001b[43msize_factors\u001b[49m\u001b[43m,\u001b[49m\n\u001b[1;32m    730\u001b[0m \u001b[43m    \u001b[49m\u001b[43mbatch_size\u001b[49m\u001b[38;5;241;43m=\u001b[39;49m\u001b[43mbatch_size\u001b[49m\u001b[43m,\u001b[49m\n\u001b[1;32m    731\u001b[0m \u001b[43m    \u001b[49m\u001b[43mbackend\u001b[49m\u001b[38;5;241;43m=\u001b[39;49m\u001b[43mbackend\u001b[49m\u001b[43m,\u001b[49m\n\u001b[1;32m    732\u001b[0m \u001b[43m    \u001b[49m\u001b[43mtrain_args\u001b[49m\u001b[38;5;241;43m=\u001b[39;49m\u001b[43mtrain_args\u001b[49m\u001b[43m,\u001b[49m\n\u001b[1;32m    733\u001b[0m \u001b[43m    \u001b[49m\u001b[43mtraining_strategy\u001b[49m\u001b[38;5;241;43m=\u001b[39;49m\u001b[43mtraining_strategy\u001b[49m\u001b[43m,\u001b[49m\n\u001b[1;32m    734\u001b[0m \u001b[43m    \u001b[49m\u001b[43mquick_scale\u001b[49m\u001b[38;5;241;43m=\u001b[39;49m\u001b[43mquick_scale\u001b[49m\u001b[43m,\u001b[49m\n\u001b[1;32m    735\u001b[0m \u001b[43m    \u001b[49m\u001b[43mdtype\u001b[49m\u001b[38;5;241;43m=\u001b[39;49m\u001b[43mdtype\u001b[49m\u001b[43m,\u001b[49m\n\u001b[1;32m    736\u001b[0m \u001b[43m    \u001b[49m\u001b[38;5;241;43m*\u001b[39;49m\u001b[38;5;241;43m*\u001b[39;49m\u001b[43mkwargs\u001b[49m\u001b[43m,\u001b[49m\n\u001b[1;32m    737\u001b[0m \u001b[43m\u001b[49m\u001b[43m)\u001b[49m\n\u001b[1;32m    739\u001b[0m \u001b[38;5;66;03m# Prepare differential expression test.\u001b[39;00m\n\u001b[1;32m    740\u001b[0m de_test \u001b[38;5;241m=\u001b[39m DifferentialExpressionTestWald(\n\u001b[1;32m    741\u001b[0m     model_estim\u001b[38;5;241m=\u001b[39mmodel,\n\u001b[1;32m    742\u001b[0m     col_indices\u001b[38;5;241m=\u001b[39mcol_indices,\n\u001b[1;32m    743\u001b[0m     noise_model\u001b[38;5;241m=\u001b[39mnoise_model,\n\u001b[1;32m    744\u001b[0m     sample_description\u001b[38;5;241m=\u001b[39msample_description\n\u001b[1;32m    745\u001b[0m )\n",
      "File \u001b[0;32m/mnt/isilon/cscb/software/diffxpy/diffxpy/testing/tests.py:248\u001b[0m, in \u001b[0;36m_fit\u001b[0;34m(noise_model, data, design_loc, design_scale, design_loc_names, design_scale_names, constraints_loc, constraints_scale, init_model, init_a, init_b, gene_names, size_factors, batch_size, backend, training_strategy, quick_scale, train_args, close_session, dtype)\u001b[0m\n\u001b[1;32m    242\u001b[0m estim\u001b[38;5;241m.\u001b[39mtrain_sequence(\n\u001b[1;32m    243\u001b[0m     training_strategy\u001b[38;5;241m=\u001b[39mtraining_strategy,\n\u001b[1;32m    244\u001b[0m     \u001b[38;5;241m*\u001b[39m\u001b[38;5;241m*\u001b[39mtrain_args\n\u001b[1;32m    245\u001b[0m )\n\u001b[1;32m    247\u001b[0m \u001b[38;5;28;01mif\u001b[39;00m close_session:\n\u001b[0;32m--> 248\u001b[0m     \u001b[43mestim\u001b[49m\u001b[38;5;241;43m.\u001b[39;49m\u001b[43mfinalize\u001b[49m\u001b[43m(\u001b[49m\u001b[43m)\u001b[49m\n\u001b[1;32m    249\u001b[0m \u001b[38;5;28;01mreturn\u001b[39;00m estim\n",
      "File \u001b[0;32m/mnt/isilon/cscb/software/batchglm/batchglm/train/numpy/base_glm/estimator.py:544\u001b[0m, in \u001b[0;36mEstimatorGlm.finalize\u001b[0;34m(self)\u001b[0m\n\u001b[1;32m    536\u001b[0m \u001b[38;5;124;03m\"\"\"\u001b[39;00m\n\u001b[1;32m    537\u001b[0m \u001b[38;5;124;03mEvaluate all tensors that need to be exported from session and save these as class attributes\u001b[39;00m\n\u001b[1;32m    538\u001b[0m \u001b[38;5;124;03mand close session.\u001b[39;00m\n\u001b[0;32m   (...)\u001b[0m\n\u001b[1;32m    541\u001b[0m \u001b[38;5;124;03mtransfers relevant attributes.\u001b[39;00m\n\u001b[1;32m    542\u001b[0m \u001b[38;5;124;03m\"\"\"\u001b[39;00m\n\u001b[1;32m    543\u001b[0m \u001b[38;5;66;03m# Read from numpy-IRLS estimator specific model:\u001b[39;00m\n\u001b[0;32m--> 544\u001b[0m \u001b[38;5;28mself\u001b[39m\u001b[38;5;241m.\u001b[39m_hessian \u001b[38;5;241m=\u001b[39m \u001b[38;5;241m-\u001b[39m \u001b[38;5;28;43mself\u001b[39;49m\u001b[38;5;241;43m.\u001b[39;49m\u001b[43mmodel\u001b[49m\u001b[38;5;241;43m.\u001b[39;49m\u001b[43mfim\u001b[49m\u001b[38;5;241m.\u001b[39mcompute()\n\u001b[1;32m    545\u001b[0m fisher_inv \u001b[38;5;241m=\u001b[39m np\u001b[38;5;241m.\u001b[39mzeros_like(\u001b[38;5;28mself\u001b[39m\u001b[38;5;241m.\u001b[39m_hessian)\n\u001b[1;32m    546\u001b[0m invertible \u001b[38;5;241m=\u001b[39m np\u001b[38;5;241m.\u001b[39mwhere(np\u001b[38;5;241m.\u001b[39mlinalg\u001b[38;5;241m.\u001b[39mcond(\u001b[38;5;28mself\u001b[39m\u001b[38;5;241m.\u001b[39m_hessian, p\u001b[38;5;241m=\u001b[39m\u001b[38;5;28;01mNone\u001b[39;00m) \u001b[38;5;241m<\u001b[39m \u001b[38;5;241m1\u001b[39m \u001b[38;5;241m/\u001b[39m sys\u001b[38;5;241m.\u001b[39mfloat_info\u001b[38;5;241m.\u001b[39mepsilon)[\u001b[38;5;241m0\u001b[39m]\n",
      "File \u001b[0;32m/mnt/isilon/cscb/software/batchglm/batchglm/train/numpy/base_glm/model.py:136\u001b[0m, in \u001b[0;36mModelIwls.fim\u001b[0;34m(self)\u001b[0m\n\u001b[1;32m    133\u001b[0m fim_ab \u001b[38;5;241m=\u001b[39m \u001b[38;5;28mself\u001b[39m\u001b[38;5;241m.\u001b[39mfim_ab\n\u001b[1;32m    134\u001b[0m fim_ba \u001b[38;5;241m=\u001b[39m np\u001b[38;5;241m.\u001b[39mtranspose(fim_ab, axes\u001b[38;5;241m=\u001b[39m[\u001b[38;5;241m0\u001b[39m, \u001b[38;5;241m2\u001b[39m, \u001b[38;5;241m1\u001b[39m])\n\u001b[1;32m    135\u001b[0m \u001b[38;5;28;01mreturn\u001b[39;00m \u001b[38;5;241m-\u001b[39m np\u001b[38;5;241m.\u001b[39mconcatenate([\n\u001b[0;32m--> 136\u001b[0m     \u001b[43mnp\u001b[49m\u001b[38;5;241;43m.\u001b[39;49m\u001b[43mconcatenate\u001b[49m\u001b[43m(\u001b[49m\u001b[43m[\u001b[49m\u001b[43mfim_aa\u001b[49m\u001b[43m,\u001b[49m\u001b[43m \u001b[49m\u001b[43mfim_ab\u001b[49m\u001b[43m]\u001b[49m\u001b[43m,\u001b[49m\u001b[43m \u001b[49m\u001b[43maxis\u001b[49m\u001b[38;5;241;43m=\u001b[39;49m\u001b[38;5;241;43m2\u001b[39;49m\u001b[43m)\u001b[49m,\n\u001b[1;32m    137\u001b[0m     np\u001b[38;5;241m.\u001b[39mconcatenate([fim_ba, fim_bb], axis\u001b[38;5;241m=\u001b[39m\u001b[38;5;241m2\u001b[39m)\n\u001b[1;32m    138\u001b[0m ], axis\u001b[38;5;241m=\u001b[39m\u001b[38;5;241m1\u001b[39m)\n",
      "File \u001b[0;32m<__array_function__ internals>:180\u001b[0m, in \u001b[0;36mconcatenate\u001b[0;34m(*args, **kwargs)\u001b[0m\n",
      "File \u001b[0;32m/mnt/isilon/cscb/software/anaconda3/envs/diffxpy/lib/python3.10/site-packages/dask/array/core.py:1749\u001b[0m, in \u001b[0;36mArray.__array_function__\u001b[0;34m(self, func, types, args, kwargs)\u001b[0m\n\u001b[1;32m   1746\u001b[0m \u001b[38;5;28;01mif\u001b[39;00m has_keyword(da_func, \u001b[38;5;124m\"\u001b[39m\u001b[38;5;124mlike\u001b[39m\u001b[38;5;124m\"\u001b[39m):\n\u001b[1;32m   1747\u001b[0m     kwargs[\u001b[38;5;124m\"\u001b[39m\u001b[38;5;124mlike\u001b[39m\u001b[38;5;124m\"\u001b[39m] \u001b[38;5;241m=\u001b[39m \u001b[38;5;28mself\u001b[39m\n\u001b[0;32m-> 1749\u001b[0m \u001b[38;5;28;01mreturn\u001b[39;00m \u001b[43mda_func\u001b[49m\u001b[43m(\u001b[49m\u001b[38;5;241;43m*\u001b[39;49m\u001b[43margs\u001b[49m\u001b[43m,\u001b[49m\u001b[43m \u001b[49m\u001b[38;5;241;43m*\u001b[39;49m\u001b[38;5;241;43m*\u001b[39;49m\u001b[43mkwargs\u001b[49m\u001b[43m)\u001b[49m\n",
      "File \u001b[0;32m/mnt/isilon/cscb/software/anaconda3/envs/diffxpy/lib/python3.10/site-packages/dask/array/core.py:4190\u001b[0m, in \u001b[0;36mconcatenate\u001b[0;34m(seq, axis, allow_unknown_chunksizes)\u001b[0m\n\u001b[1;32m   4146\u001b[0m \u001b[38;5;124;03m\"\"\"\u001b[39;00m\n\u001b[1;32m   4147\u001b[0m \u001b[38;5;124;03mConcatenate arrays along an existing axis\u001b[39;00m\n\u001b[1;32m   4148\u001b[0m \n\u001b[0;32m   (...)\u001b[0m\n\u001b[1;32m   4186\u001b[0m \u001b[38;5;124;03mstack\u001b[39;00m\n\u001b[1;32m   4187\u001b[0m \u001b[38;5;124;03m\"\"\"\u001b[39;00m\n\u001b[1;32m   4188\u001b[0m \u001b[38;5;28;01mfrom\u001b[39;00m \u001b[38;5;21;01mdask\u001b[39;00m\u001b[38;5;21;01m.\u001b[39;00m\u001b[38;5;21;01marray\u001b[39;00m \u001b[38;5;28;01mimport\u001b[39;00m wrap\n\u001b[0;32m-> 4190\u001b[0m seq \u001b[38;5;241m=\u001b[39m [asarray(a, allow_unknown_chunksizes\u001b[38;5;241m=\u001b[39mallow_unknown_chunksizes) \u001b[38;5;28;01mfor\u001b[39;00m a \u001b[38;5;129;01min\u001b[39;00m seq]\n\u001b[1;32m   4192\u001b[0m \u001b[38;5;28;01mif\u001b[39;00m \u001b[38;5;129;01mnot\u001b[39;00m seq:\n\u001b[1;32m   4193\u001b[0m     \u001b[38;5;28;01mraise\u001b[39;00m \u001b[38;5;167;01mValueError\u001b[39;00m(\u001b[38;5;124m\"\u001b[39m\u001b[38;5;124mNeed array(s) to concatenate\u001b[39m\u001b[38;5;124m\"\u001b[39m)\n",
      "File \u001b[0;32m/mnt/isilon/cscb/software/anaconda3/envs/diffxpy/lib/python3.10/site-packages/dask/array/core.py:4190\u001b[0m, in \u001b[0;36m<listcomp>\u001b[0;34m(.0)\u001b[0m\n\u001b[1;32m   4146\u001b[0m \u001b[38;5;124;03m\"\"\"\u001b[39;00m\n\u001b[1;32m   4147\u001b[0m \u001b[38;5;124;03mConcatenate arrays along an existing axis\u001b[39;00m\n\u001b[1;32m   4148\u001b[0m \n\u001b[0;32m   (...)\u001b[0m\n\u001b[1;32m   4186\u001b[0m \u001b[38;5;124;03mstack\u001b[39;00m\n\u001b[1;32m   4187\u001b[0m \u001b[38;5;124;03m\"\"\"\u001b[39;00m\n\u001b[1;32m   4188\u001b[0m \u001b[38;5;28;01mfrom\u001b[39;00m \u001b[38;5;21;01mdask\u001b[39;00m\u001b[38;5;21;01m.\u001b[39;00m\u001b[38;5;21;01marray\u001b[39;00m \u001b[38;5;28;01mimport\u001b[39;00m wrap\n\u001b[0;32m-> 4190\u001b[0m seq \u001b[38;5;241m=\u001b[39m [\u001b[43masarray\u001b[49m\u001b[43m(\u001b[49m\u001b[43ma\u001b[49m\u001b[43m,\u001b[49m\u001b[43m \u001b[49m\u001b[43mallow_unknown_chunksizes\u001b[49m\u001b[38;5;241;43m=\u001b[39;49m\u001b[43mallow_unknown_chunksizes\u001b[49m\u001b[43m)\u001b[49m \u001b[38;5;28;01mfor\u001b[39;00m a \u001b[38;5;129;01min\u001b[39;00m seq]\n\u001b[1;32m   4192\u001b[0m \u001b[38;5;28;01mif\u001b[39;00m \u001b[38;5;129;01mnot\u001b[39;00m seq:\n\u001b[1;32m   4193\u001b[0m     \u001b[38;5;28;01mraise\u001b[39;00m \u001b[38;5;167;01mValueError\u001b[39;00m(\u001b[38;5;124m\"\u001b[39m\u001b[38;5;124mNeed array(s) to concatenate\u001b[39m\u001b[38;5;124m\"\u001b[39m)\n",
      "File \u001b[0;32m/mnt/isilon/cscb/software/anaconda3/envs/diffxpy/lib/python3.10/site-packages/dask/array/core.py:4538\u001b[0m, in \u001b[0;36masarray\u001b[0;34m(a, allow_unknown_chunksizes, dtype, order, like, **kwargs)\u001b[0m\n\u001b[1;32m   4536\u001b[0m     \u001b[38;5;28;01melse\u001b[39;00m:\n\u001b[1;32m   4537\u001b[0m         a \u001b[38;5;241m=\u001b[39m np\u001b[38;5;241m.\u001b[39masarray(a, like\u001b[38;5;241m=\u001b[39mlike_meta, dtype\u001b[38;5;241m=\u001b[39mdtype, order\u001b[38;5;241m=\u001b[39morder)\n\u001b[0;32m-> 4538\u001b[0m \u001b[38;5;28;01mreturn\u001b[39;00m \u001b[43mfrom_array\u001b[49m\u001b[43m(\u001b[49m\u001b[43ma\u001b[49m\u001b[43m,\u001b[49m\u001b[43m \u001b[49m\u001b[43mgetitem\u001b[49m\u001b[38;5;241;43m=\u001b[39;49m\u001b[43mgetter_inline\u001b[49m\u001b[43m,\u001b[49m\u001b[43m \u001b[49m\u001b[38;5;241;43m*\u001b[39;49m\u001b[38;5;241;43m*\u001b[39;49m\u001b[43mkwargs\u001b[49m\u001b[43m)\u001b[49m\n",
      "File \u001b[0;32m/mnt/isilon/cscb/software/anaconda3/envs/diffxpy/lib/python3.10/site-packages/dask/array/core.py:3451\u001b[0m, in \u001b[0;36mfrom_array\u001b[0;34m(x, chunks, name, lock, asarray, fancy, getitem, meta, inline_array)\u001b[0m\n\u001b[1;32m   3447\u001b[0m     asarray \u001b[38;5;241m=\u001b[39m \u001b[38;5;129;01mnot\u001b[39;00m \u001b[38;5;28mhasattr\u001b[39m(x, \u001b[38;5;124m\"\u001b[39m\u001b[38;5;124m__array_function__\u001b[39m\u001b[38;5;124m\"\u001b[39m)\n\u001b[1;32m   3449\u001b[0m previous_chunks \u001b[38;5;241m=\u001b[39m \u001b[38;5;28mgetattr\u001b[39m(x, \u001b[38;5;124m\"\u001b[39m\u001b[38;5;124mchunks\u001b[39m\u001b[38;5;124m\"\u001b[39m, \u001b[38;5;28;01mNone\u001b[39;00m)\n\u001b[0;32m-> 3451\u001b[0m chunks \u001b[38;5;241m=\u001b[39m \u001b[43mnormalize_chunks\u001b[49m\u001b[43m(\u001b[49m\n\u001b[1;32m   3452\u001b[0m \u001b[43m    \u001b[49m\u001b[43mchunks\u001b[49m\u001b[43m,\u001b[49m\u001b[43m \u001b[49m\u001b[43mx\u001b[49m\u001b[38;5;241;43m.\u001b[39;49m\u001b[43mshape\u001b[49m\u001b[43m,\u001b[49m\u001b[43m \u001b[49m\u001b[43mdtype\u001b[49m\u001b[38;5;241;43m=\u001b[39;49m\u001b[43mx\u001b[49m\u001b[38;5;241;43m.\u001b[39;49m\u001b[43mdtype\u001b[49m\u001b[43m,\u001b[49m\u001b[43m \u001b[49m\u001b[43mprevious_chunks\u001b[49m\u001b[38;5;241;43m=\u001b[39;49m\u001b[43mprevious_chunks\u001b[49m\n\u001b[1;32m   3453\u001b[0m \u001b[43m\u001b[49m\u001b[43m)\u001b[49m\n\u001b[1;32m   3455\u001b[0m \u001b[38;5;28;01mif\u001b[39;00m name \u001b[38;5;129;01min\u001b[39;00m (\u001b[38;5;28;01mNone\u001b[39;00m, \u001b[38;5;28;01mTrue\u001b[39;00m):\n\u001b[1;32m   3456\u001b[0m     token \u001b[38;5;241m=\u001b[39m tokenize(x, chunks, lock, asarray, fancy, getitem, inline_array)\n",
      "File \u001b[0;32m/mnt/isilon/cscb/software/anaconda3/envs/diffxpy/lib/python3.10/site-packages/dask/array/core.py:3061\u001b[0m, in \u001b[0;36mnormalize_chunks\u001b[0;34m(chunks, shape, limit, dtype, previous_chunks)\u001b[0m\n\u001b[1;32m   3058\u001b[0m chunks \u001b[38;5;241m=\u001b[39m \u001b[38;5;28mtuple\u001b[39m(\u001b[38;5;124m\"\u001b[39m\u001b[38;5;124mauto\u001b[39m\u001b[38;5;124m\"\u001b[39m \u001b[38;5;28;01mif\u001b[39;00m \u001b[38;5;28misinstance\u001b[39m(c, \u001b[38;5;28mstr\u001b[39m) \u001b[38;5;129;01mand\u001b[39;00m c \u001b[38;5;241m!=\u001b[39m \u001b[38;5;124m\"\u001b[39m\u001b[38;5;124mauto\u001b[39m\u001b[38;5;124m\"\u001b[39m \u001b[38;5;28;01melse\u001b[39;00m c \u001b[38;5;28;01mfor\u001b[39;00m c \u001b[38;5;129;01min\u001b[39;00m chunks)\n\u001b[1;32m   3060\u001b[0m \u001b[38;5;28;01mif\u001b[39;00m \u001b[38;5;28many\u001b[39m(c \u001b[38;5;241m==\u001b[39m \u001b[38;5;124m\"\u001b[39m\u001b[38;5;124mauto\u001b[39m\u001b[38;5;124m\"\u001b[39m \u001b[38;5;28;01mfor\u001b[39;00m c \u001b[38;5;129;01min\u001b[39;00m chunks):\n\u001b[0;32m-> 3061\u001b[0m     chunks \u001b[38;5;241m=\u001b[39m \u001b[43mauto_chunks\u001b[49m\u001b[43m(\u001b[49m\u001b[43mchunks\u001b[49m\u001b[43m,\u001b[49m\u001b[43m \u001b[49m\u001b[43mshape\u001b[49m\u001b[43m,\u001b[49m\u001b[43m \u001b[49m\u001b[43mlimit\u001b[49m\u001b[43m,\u001b[49m\u001b[43m \u001b[49m\u001b[43mdtype\u001b[49m\u001b[43m,\u001b[49m\u001b[43m \u001b[49m\u001b[43mprevious_chunks\u001b[49m\u001b[43m)\u001b[49m\n\u001b[1;32m   3063\u001b[0m \u001b[38;5;28;01mif\u001b[39;00m shape \u001b[38;5;129;01mis\u001b[39;00m \u001b[38;5;129;01mnot\u001b[39;00m \u001b[38;5;28;01mNone\u001b[39;00m:\n\u001b[1;32m   3064\u001b[0m     chunks \u001b[38;5;241m=\u001b[39m \u001b[38;5;28mtuple\u001b[39m(c \u001b[38;5;28;01mif\u001b[39;00m c \u001b[38;5;129;01mnot\u001b[39;00m \u001b[38;5;129;01min\u001b[39;00m {\u001b[38;5;28;01mNone\u001b[39;00m, \u001b[38;5;241m-\u001b[39m\u001b[38;5;241m1\u001b[39m} \u001b[38;5;28;01melse\u001b[39;00m s \u001b[38;5;28;01mfor\u001b[39;00m c, s \u001b[38;5;129;01min\u001b[39;00m \u001b[38;5;28mzip\u001b[39m(chunks, shape))\n",
      "File \u001b[0;32m/mnt/isilon/cscb/software/anaconda3/envs/diffxpy/lib/python3.10/site-packages/dask/array/core.py:3236\u001b[0m, in \u001b[0;36mauto_chunks\u001b[0;34m(chunks, shape, limit, dtype, previous_chunks)\u001b[0m\n\u001b[1;32m   3234\u001b[0m     \u001b[38;5;28;01mfor\u001b[39;00m i \u001b[38;5;129;01min\u001b[39;00m small:\n\u001b[1;32m   3235\u001b[0m         chunks[i] \u001b[38;5;241m=\u001b[39m (shape[i],)\n\u001b[0;32m-> 3236\u001b[0m     \u001b[38;5;28;01mreturn\u001b[39;00m \u001b[43mauto_chunks\u001b[49m\u001b[43m(\u001b[49m\u001b[43mchunks\u001b[49m\u001b[43m,\u001b[49m\u001b[43m \u001b[49m\u001b[43mshape\u001b[49m\u001b[43m,\u001b[49m\u001b[43m \u001b[49m\u001b[43mlimit\u001b[49m\u001b[43m,\u001b[49m\u001b[43m \u001b[49m\u001b[43mdtype\u001b[49m\u001b[43m)\u001b[49m\n\u001b[1;32m   3238\u001b[0m \u001b[38;5;28;01mfor\u001b[39;00m i \u001b[38;5;129;01min\u001b[39;00m autos:\n\u001b[1;32m   3239\u001b[0m     chunks[i] \u001b[38;5;241m=\u001b[39m round_to(size, shape[i])\n",
      "File \u001b[0;32m/mnt/isilon/cscb/software/anaconda3/envs/diffxpy/lib/python3.10/site-packages/dask/array/core.py:3231\u001b[0m, in \u001b[0;36mauto_chunks\u001b[0;34m(chunks, shape, limit, dtype, previous_chunks)\u001b[0m\n\u001b[1;32m   3227\u001b[0m \u001b[38;5;28;01mif\u001b[39;00m dtype\u001b[38;5;241m.\u001b[39mitemsize \u001b[38;5;241m==\u001b[39m \u001b[38;5;241m0\u001b[39m:\n\u001b[1;32m   3228\u001b[0m     \u001b[38;5;28;01mraise\u001b[39;00m \u001b[38;5;167;01mValueError\u001b[39;00m(\n\u001b[1;32m   3229\u001b[0m         \u001b[38;5;124m\"\u001b[39m\u001b[38;5;124mauto-chunking with dtype.itemsize == 0 is not supported, please pass in `chunks` explicitly\u001b[39m\u001b[38;5;124m\"\u001b[39m\n\u001b[1;32m   3230\u001b[0m     )\n\u001b[0;32m-> 3231\u001b[0m size \u001b[38;5;241m=\u001b[39m (\u001b[43mlimit\u001b[49m\u001b[43m \u001b[49m\u001b[38;5;241;43m/\u001b[39;49m\u001b[43m \u001b[49m\u001b[43mdtype\u001b[49m\u001b[38;5;241;43m.\u001b[39;49m\u001b[43mitemsize\u001b[49m\u001b[43m \u001b[49m\u001b[38;5;241;43m/\u001b[39;49m\u001b[43m \u001b[49m\u001b[43mlargest_block\u001b[49m) \u001b[38;5;241m*\u001b[39m\u001b[38;5;241m*\u001b[39m (\u001b[38;5;241m1\u001b[39m \u001b[38;5;241m/\u001b[39m \u001b[38;5;28mlen\u001b[39m(autos))\n\u001b[1;32m   3232\u001b[0m small \u001b[38;5;241m=\u001b[39m [i \u001b[38;5;28;01mfor\u001b[39;00m i \u001b[38;5;129;01min\u001b[39;00m autos \u001b[38;5;28;01mif\u001b[39;00m shape[i] \u001b[38;5;241m<\u001b[39m size]\n\u001b[1;32m   3233\u001b[0m \u001b[38;5;28;01mif\u001b[39;00m small:\n",
      "\u001b[0;31mZeroDivisionError\u001b[0m: float division by zero"
     ]
    }
   ],
   "source": [
    "# test = de.test.wald(\n",
    "#     data=sim_data,\n",
    "#     formula_loc=\"~ 1 + condition\",\n",
    "#     factor_loc_totest=\"condition\"\n",
    "# )\n",
    "test = de.test.wald(\n",
    "    data=tam_data_filter,\n",
    "    formula_loc=\"~ 1 + TAM_cluster\",\n",
    "    factor_loc_totest=\"TAM_cluster\",\n",
    ")\n",
    "# test = de.test.wald(\n",
    "#     data=data,\n",
    "#     formula_loc=\"~ 1 + cell_type\",\n",
    "#     factor_loc_totest=\"cell_type\"\n",
    "# )"
   ]
  },
  {
   "cell_type": "code",
   "execution_count": null,
   "id": "f1ee45d2-3abe-49f8-b5f7-f2b3438baa99",
   "metadata": {},
   "outputs": [],
   "source": [
    "test.plot_volcano(corrected_pval=True, min_fc=1.05, alpha=0.05, size=20)"
   ]
  },
  {
   "cell_type": "code",
   "execution_count": 36,
   "id": "23d7a161-8d93-48de-93ad-e3660393940a",
   "metadata": {},
   "outputs": [
    {
     "data": {
      "text/html": [
       "<div>\n",
       "<style scoped>\n",
       "    .dataframe tbody tr th:only-of-type {\n",
       "        vertical-align: middle;\n",
       "    }\n",
       "\n",
       "    .dataframe tbody tr th {\n",
       "        vertical-align: top;\n",
       "    }\n",
       "\n",
       "    .dataframe thead th {\n",
       "        text-align: right;\n",
       "    }\n",
       "</style>\n",
       "<table border=\"1\" class=\"dataframe\">\n",
       "  <thead>\n",
       "    <tr style=\"text-align: right;\">\n",
       "      <th></th>\n",
       "      <th>cluster</th>\n",
       "      <th>x</th>\n",
       "      <th>y</th>\n",
       "      <th>global_x</th>\n",
       "      <th>global_y</th>\n",
       "      <th>n_genes</th>\n",
       "      <th>n_genes_by_counts</th>\n",
       "      <th>total_counts</th>\n",
       "      <th>leiden</th>\n",
       "      <th>cell_type</th>\n",
       "      <th>TAM_cluster</th>\n",
       "    </tr>\n",
       "  </thead>\n",
       "  <tbody>\n",
       "    <tr>\n",
       "      <th>306</th>\n",
       "      <td>2</td>\n",
       "      <td>8515.943753</td>\n",
       "      <td>47619.711195</td>\n",
       "      <td>919.722549</td>\n",
       "      <td>5142.932294</td>\n",
       "      <td>39</td>\n",
       "      <td>39</td>\n",
       "      <td>80.0</td>\n",
       "      <td>4</td>\n",
       "      <td>Macrophage_TAM</td>\n",
       "      <td>2</td>\n",
       "    </tr>\n",
       "    <tr>\n",
       "      <th>312</th>\n",
       "      <td>1</td>\n",
       "      <td>8539.087320</td>\n",
       "      <td>47701.801517</td>\n",
       "      <td>922.222055</td>\n",
       "      <td>5151.798054</td>\n",
       "      <td>53</td>\n",
       "      <td>53</td>\n",
       "      <td>134.0</td>\n",
       "      <td>4</td>\n",
       "      <td>Macrophage_TAM</td>\n",
       "      <td>2</td>\n",
       "    </tr>\n",
       "    <tr>\n",
       "      <th>318</th>\n",
       "      <td>1</td>\n",
       "      <td>8511.821859</td>\n",
       "      <td>47774.222197</td>\n",
       "      <td>919.277384</td>\n",
       "      <td>5159.619493</td>\n",
       "      <td>47</td>\n",
       "      <td>47</td>\n",
       "      <td>89.0</td>\n",
       "      <td>4</td>\n",
       "      <td>Macrophage_TAM</td>\n",
       "      <td>2</td>\n",
       "    </tr>\n",
       "    <tr>\n",
       "      <th>360</th>\n",
       "      <td>2</td>\n",
       "      <td>8743.063968</td>\n",
       "      <td>48191.985063</td>\n",
       "      <td>944.251548</td>\n",
       "      <td>5204.737913</td>\n",
       "      <td>32</td>\n",
       "      <td>32</td>\n",
       "      <td>105.0</td>\n",
       "      <td>4</td>\n",
       "      <td>Macrophage_TAM</td>\n",
       "      <td>2</td>\n",
       "    </tr>\n",
       "    <tr>\n",
       "      <th>366</th>\n",
       "      <td>2</td>\n",
       "      <td>8820.508178</td>\n",
       "      <td>48193.363867</td>\n",
       "      <td>952.615529</td>\n",
       "      <td>5204.886824</td>\n",
       "      <td>42</td>\n",
       "      <td>42</td>\n",
       "      <td>66.0</td>\n",
       "      <td>4</td>\n",
       "      <td>Macrophage_TAM</td>\n",
       "      <td>2</td>\n",
       "    </tr>\n",
       "  </tbody>\n",
       "</table>\n",
       "</div>"
      ],
      "text/plain": [
       "     cluster            x             y    global_x     global_y  n_genes  \\\n",
       "306        2  8515.943753  47619.711195  919.722549  5142.932294       39   \n",
       "312        1  8539.087320  47701.801517  922.222055  5151.798054       53   \n",
       "318        1  8511.821859  47774.222197  919.277384  5159.619493       47   \n",
       "360        2  8743.063968  48191.985063  944.251548  5204.737913       32   \n",
       "366        2  8820.508178  48193.363867  952.615529  5204.886824       42   \n",
       "\n",
       "     n_genes_by_counts  total_counts leiden       cell_type TAM_cluster  \n",
       "306                 39          80.0      4  Macrophage_TAM           2  \n",
       "312                 53         134.0      4  Macrophage_TAM           2  \n",
       "318                 47          89.0      4  Macrophage_TAM           2  \n",
       "360                 32         105.0      4  Macrophage_TAM           2  \n",
       "366                 42          66.0      4  Macrophage_TAM           2  "
      ]
     },
     "execution_count": 36,
     "metadata": {},
     "output_type": "execute_result"
    }
   ],
   "source": [
    "tam_data_filter.obs.head()"
   ]
  },
  {
   "cell_type": "code",
   "execution_count": 22,
   "id": "f142c465-fb5d-4711-bbbb-8418eed6123d",
   "metadata": {},
   "outputs": [],
   "source": [
    "test_tt = de.test.t_test(\n",
    "    data=tam_data_filter,\n",
    "    grouping=\"TAM_cluster\",\n",
    "    is_logged=True\n",
    ")"
   ]
  },
  {
   "cell_type": "code",
   "execution_count": 12,
   "id": "ca466960-33dd-4a1d-bd96-70cb6c376a2f",
   "metadata": {},
   "outputs": [
    {
     "data": {
      "image/png": "[encoded data removed]",
      "text/plain": [
       "<Figure size 640x480 with 1 Axes>"
      ]
     },
     "metadata": {},
     "output_type": "display_data"
    }
   ],
   "source": [
    "test_tt.plot_volcano(corrected_pval=True, min_fc=1.05, alpha=0.05, size=20, save=\"outs/TAM_volcano.png\")\n"
   ]
  },
  {
   "cell_type": "code",
   "execution_count": 12,
   "id": "e26628db-6ed5-499f-b838-7a05a4a79277",
   "metadata": {},
   "outputs": [],
   "source": [
    "test_tt.summary().to_csv(\"outs/TAM_DEG_results.csv\")"
   ]
  },
  {
   "cell_type": "code",
   "execution_count": 28,
   "id": "4da55281-fb90-4f17-83e9-215ca031d5c7",
   "metadata": {},
   "outputs": [
    {
     "ename": "AttributeError",
     "evalue": "'Series' object has no attribute 'categories'",
     "output_type": "error",
     "traceback": [
      "\u001b[0;31m---------------------------------------------------------------------------\u001b[0m",
      "\u001b[0;31mAttributeError\u001b[0m                            Traceback (most recent call last)",
      "Input \u001b[0;32mIn [28]\u001b[0m, in \u001b[0;36m<cell line: 1>\u001b[0;34m()\u001b[0m\n\u001b[0;32m----> 1\u001b[0m \u001b[43mtam_data_filter\u001b[49m\u001b[38;5;241;43m.\u001b[39;49m\u001b[43mobs\u001b[49m\u001b[38;5;241;43m.\u001b[39;49m\u001b[43mTAM_cluster\u001b[49m\u001b[38;5;241;43m.\u001b[39;49m\u001b[43mcategories\u001b[49m\n",
      "File \u001b[0;32m/mnt/isilon/cscb/software/anaconda3/envs/diffxpy/lib/python3.10/site-packages/pandas/core/generic.py:5575\u001b[0m, in \u001b[0;36mNDFrame.__getattr__\u001b[0;34m(self, name)\u001b[0m\n\u001b[1;32m   5568\u001b[0m \u001b[38;5;28;01mif\u001b[39;00m (\n\u001b[1;32m   5569\u001b[0m     name \u001b[38;5;129;01mnot\u001b[39;00m \u001b[38;5;129;01min\u001b[39;00m \u001b[38;5;28mself\u001b[39m\u001b[38;5;241m.\u001b[39m_internal_names_set\n\u001b[1;32m   5570\u001b[0m     \u001b[38;5;129;01mand\u001b[39;00m name \u001b[38;5;129;01mnot\u001b[39;00m \u001b[38;5;129;01min\u001b[39;00m \u001b[38;5;28mself\u001b[39m\u001b[38;5;241m.\u001b[39m_metadata\n\u001b[1;32m   5571\u001b[0m     \u001b[38;5;129;01mand\u001b[39;00m name \u001b[38;5;129;01mnot\u001b[39;00m \u001b[38;5;129;01min\u001b[39;00m \u001b[38;5;28mself\u001b[39m\u001b[38;5;241m.\u001b[39m_accessors\n\u001b[1;32m   5572\u001b[0m     \u001b[38;5;129;01mand\u001b[39;00m \u001b[38;5;28mself\u001b[39m\u001b[38;5;241m.\u001b[39m_info_axis\u001b[38;5;241m.\u001b[39m_can_hold_identifiers_and_holds_name(name)\n\u001b[1;32m   5573\u001b[0m ):\n\u001b[1;32m   5574\u001b[0m     \u001b[38;5;28;01mreturn\u001b[39;00m \u001b[38;5;28mself\u001b[39m[name]\n\u001b[0;32m-> 5575\u001b[0m \u001b[38;5;28;01mreturn\u001b[39;00m \u001b[38;5;28;43mobject\u001b[39;49m\u001b[38;5;241;43m.\u001b[39;49m\u001b[38;5;21;43m__getattribute__\u001b[39;49m\u001b[43m(\u001b[49m\u001b[38;5;28;43mself\u001b[39;49m\u001b[43m,\u001b[49m\u001b[43m \u001b[49m\u001b[43mname\u001b[49m\u001b[43m)\u001b[49m\n",
      "\u001b[0;31mAttributeError\u001b[0m: 'Series' object has no attribute 'categories'"
     ]
    }
   ],
   "source": [
    "tam_data_filter.obs.TAM_cluster.categories"
   ]
  },
  {
   "cell_type": "code",
   "execution_count": 31,
   "id": "7c38d573-420c-4d01-b738-9d3e23cd2602",
   "metadata": {
    "collapsed": true,
    "jupyter": {
     "outputs_hidden": true
    },
    "tags": []
   },
   "outputs": [
    {
     "ename": "ValueError",
     "evalue": "type <class 'tuple'> not recognized",
     "output_type": "error",
     "traceback": [
      "\u001b[0;31m---------------------------------------------------------------------------\u001b[0m",
      "\u001b[0;31mValueError\u001b[0m                                Traceback (most recent call last)",
      "Input \u001b[0;32mIn [31]\u001b[0m, in \u001b[0;36m<cell line: 1>\u001b[0;34m()\u001b[0m\n\u001b[0;32m----> 1\u001b[0m test_lrt \u001b[38;5;241m=\u001b[39m \u001b[43mde\u001b[49m\u001b[38;5;241;43m.\u001b[39;49m\u001b[43mtest\u001b[49m\u001b[38;5;241;43m.\u001b[39;49m\u001b[43mlrt\u001b[49m\u001b[43m(\u001b[49m\n\u001b[1;32m      2\u001b[0m \u001b[43m   \u001b[49m\u001b[43mdata\u001b[49m\u001b[38;5;241;43m=\u001b[39;49m\u001b[43mtam_data_filter\u001b[49m\u001b[43m,\u001b[49m\u001b[43m \u001b[49m\n\u001b[1;32m      3\u001b[0m \u001b[43m   \u001b[49m\u001b[43mfull_formula_loc\u001b[49m\u001b[38;5;241;43m=\u001b[39;49m\u001b[38;5;124;43m\"\u001b[39;49m\u001b[38;5;124;43m1+TAM_cluster\u001b[39;49m\u001b[38;5;124;43m\"\u001b[39;49m\u001b[43m,\u001b[49m\n\u001b[1;32m      4\u001b[0m \u001b[43m   \u001b[49m\u001b[43mreduced_formula_loc\u001b[49m\u001b[38;5;241;43m=\u001b[39;49m\u001b[38;5;124;43m\"\u001b[39;49m\u001b[38;5;124;43m1\u001b[39;49m\u001b[38;5;124;43m\"\u001b[39;49m\n\u001b[1;32m      5\u001b[0m \u001b[43m)\u001b[49m\n",
      "File \u001b[0;32m/mnt/isilon/cscb/software/diffxpy/diffxpy/testing/tests.py:397\u001b[0m, in \u001b[0;36mlrt\u001b[0;34m(data, full_formula_loc, reduced_formula_loc, full_formula_scale, reduced_formula_scale, as_numeric, init_a, init_b, gene_names, sample_description, noise_model, size_factors, batch_size, backend, train_args, training_strategy, quick_scale, dtype, **kwargs)\u001b[0m\n\u001b[1;32m    384\u001b[0m full_design_scale \u001b[38;5;241m=\u001b[39m glm\u001b[38;5;241m.\u001b[39mdata\u001b[38;5;241m.\u001b[39mdesign_matrix(\n\u001b[1;32m    385\u001b[0m     sample_description\u001b[38;5;241m=\u001b[39msample_description,\n\u001b[1;32m    386\u001b[0m     formula\u001b[38;5;241m=\u001b[39mfull_formula_scale,\n\u001b[1;32m    387\u001b[0m     as_categorical\u001b[38;5;241m=\u001b[39m[\u001b[38;5;28;01mFalse\u001b[39;00m \u001b[38;5;28;01mif\u001b[39;00m x \u001b[38;5;129;01min\u001b[39;00m as_numeric \u001b[38;5;28;01melse\u001b[39;00m \u001b[38;5;28;01mTrue\u001b[39;00m \u001b[38;5;28;01mfor\u001b[39;00m x \u001b[38;5;129;01min\u001b[39;00m sample_description\u001b[38;5;241m.\u001b[39mcolumns\u001b[38;5;241m.\u001b[39mvalues],\n\u001b[1;32m    388\u001b[0m     return_type\u001b[38;5;241m=\u001b[39m\u001b[38;5;124m\"\u001b[39m\u001b[38;5;124mpatsy\u001b[39m\u001b[38;5;124m\"\u001b[39m\n\u001b[1;32m    389\u001b[0m )\n\u001b[1;32m    390\u001b[0m reduced_design_scale \u001b[38;5;241m=\u001b[39m glm\u001b[38;5;241m.\u001b[39mdata\u001b[38;5;241m.\u001b[39mdesign_matrix(\n\u001b[1;32m    391\u001b[0m     sample_description\u001b[38;5;241m=\u001b[39msample_description,\n\u001b[1;32m    392\u001b[0m     formula\u001b[38;5;241m=\u001b[39mreduced_formula_scale,\n\u001b[1;32m    393\u001b[0m     as_categorical\u001b[38;5;241m=\u001b[39m[\u001b[38;5;28;01mFalse\u001b[39;00m \u001b[38;5;28;01mif\u001b[39;00m x \u001b[38;5;129;01min\u001b[39;00m as_numeric \u001b[38;5;28;01melse\u001b[39;00m \u001b[38;5;28;01mTrue\u001b[39;00m \u001b[38;5;28;01mfor\u001b[39;00m x \u001b[38;5;129;01min\u001b[39;00m sample_description\u001b[38;5;241m.\u001b[39mcolumns\u001b[38;5;241m.\u001b[39mvalues],\n\u001b[1;32m    394\u001b[0m     return_type\u001b[38;5;241m=\u001b[39m\u001b[38;5;124m\"\u001b[39m\u001b[38;5;124mpatsy\u001b[39m\u001b[38;5;124m\"\u001b[39m\n\u001b[1;32m    395\u001b[0m )\n\u001b[0;32m--> 397\u001b[0m reduced_model \u001b[38;5;241m=\u001b[39m \u001b[43m_fit\u001b[49m\u001b[43m(\u001b[49m\n\u001b[1;32m    398\u001b[0m \u001b[43m    \u001b[49m\u001b[43mnoise_model\u001b[49m\u001b[38;5;241;43m=\u001b[39;49m\u001b[43mnoise_model\u001b[49m\u001b[43m,\u001b[49m\n\u001b[1;32m    399\u001b[0m \u001b[43m    \u001b[49m\u001b[43mdata\u001b[49m\u001b[38;5;241;43m=\u001b[39;49m\u001b[43mdata\u001b[49m\u001b[43m,\u001b[49m\n\u001b[1;32m    400\u001b[0m \u001b[43m    \u001b[49m\u001b[43mdesign_loc\u001b[49m\u001b[38;5;241;43m=\u001b[39;49m\u001b[43mreduced_design_loc\u001b[49m\u001b[43m,\u001b[49m\n\u001b[1;32m    401\u001b[0m \u001b[43m    \u001b[49m\u001b[43mdesign_scale\u001b[49m\u001b[38;5;241;43m=\u001b[39;49m\u001b[43mreduced_design_scale\u001b[49m\u001b[43m,\u001b[49m\n\u001b[1;32m    402\u001b[0m \u001b[43m    \u001b[49m\u001b[43mconstraints_loc\u001b[49m\u001b[38;5;241;43m=\u001b[39;49m\u001b[38;5;28;43;01mNone\u001b[39;49;00m\u001b[43m,\u001b[49m\n\u001b[1;32m    403\u001b[0m \u001b[43m    \u001b[49m\u001b[43mconstraints_scale\u001b[49m\u001b[38;5;241;43m=\u001b[39;49m\u001b[38;5;28;43;01mNone\u001b[39;49;00m\u001b[43m,\u001b[49m\n\u001b[1;32m    404\u001b[0m \u001b[43m    \u001b[49m\u001b[43minit_a\u001b[49m\u001b[38;5;241;43m=\u001b[39;49m\u001b[43minit_a\u001b[49m\u001b[43m,\u001b[49m\n\u001b[1;32m    405\u001b[0m \u001b[43m    \u001b[49m\u001b[43minit_b\u001b[49m\u001b[38;5;241;43m=\u001b[39;49m\u001b[43minit_b\u001b[49m\u001b[43m,\u001b[49m\n\u001b[1;32m    406\u001b[0m \u001b[43m    \u001b[49m\u001b[43mgene_names\u001b[49m\u001b[38;5;241;43m=\u001b[39;49m\u001b[43mgene_names\u001b[49m\u001b[43m,\u001b[49m\n\u001b[1;32m    407\u001b[0m \u001b[43m    \u001b[49m\u001b[43msize_factors\u001b[49m\u001b[38;5;241;43m=\u001b[39;49m\u001b[43msize_factors\u001b[49m\u001b[43m,\u001b[49m\n\u001b[1;32m    408\u001b[0m \u001b[43m    \u001b[49m\u001b[43mbatch_size\u001b[49m\u001b[38;5;241;43m=\u001b[39;49m\u001b[43mbatch_size\u001b[49m\u001b[43m,\u001b[49m\n\u001b[1;32m    409\u001b[0m \u001b[43m    \u001b[49m\u001b[43mbackend\u001b[49m\u001b[38;5;241;43m=\u001b[39;49m\u001b[43mbackend\u001b[49m\u001b[43m,\u001b[49m\n\u001b[1;32m    410\u001b[0m \u001b[43m    \u001b[49m\u001b[43mtrain_args\u001b[49m\u001b[38;5;241;43m=\u001b[39;49m\u001b[43mtrain_args\u001b[49m\u001b[43m,\u001b[49m\n\u001b[1;32m    411\u001b[0m \u001b[43m    \u001b[49m\u001b[43mtraining_strategy\u001b[49m\u001b[38;5;241;43m=\u001b[39;49m\u001b[43mtraining_strategy\u001b[49m\u001b[43m,\u001b[49m\n\u001b[1;32m    412\u001b[0m \u001b[43m    \u001b[49m\u001b[43mquick_scale\u001b[49m\u001b[38;5;241;43m=\u001b[39;49m\u001b[43mquick_scale\u001b[49m\u001b[43m,\u001b[49m\n\u001b[1;32m    413\u001b[0m \u001b[43m    \u001b[49m\u001b[43mdtype\u001b[49m\u001b[38;5;241;43m=\u001b[39;49m\u001b[43mdtype\u001b[49m\u001b[43m,\u001b[49m\n\u001b[1;32m    414\u001b[0m \u001b[43m    \u001b[49m\u001b[38;5;241;43m*\u001b[39;49m\u001b[38;5;241;43m*\u001b[39;49m\u001b[43mkwargs\u001b[49m\n\u001b[1;32m    415\u001b[0m \u001b[43m\u001b[49m\u001b[43m)\u001b[49m\n\u001b[1;32m    416\u001b[0m full_model \u001b[38;5;241m=\u001b[39m _fit(\n\u001b[1;32m    417\u001b[0m     noise_model\u001b[38;5;241m=\u001b[39mnoise_model,\n\u001b[1;32m    418\u001b[0m     data\u001b[38;5;241m=\u001b[39mdata,\n\u001b[0;32m   (...)\u001b[0m\n\u001b[1;32m    434\u001b[0m     \u001b[38;5;241m*\u001b[39m\u001b[38;5;241m*\u001b[39mkwargs\n\u001b[1;32m    435\u001b[0m )\n\u001b[1;32m    437\u001b[0m de_test \u001b[38;5;241m=\u001b[39m DifferentialExpressionTestLRT(\n\u001b[1;32m    438\u001b[0m     sample_description\u001b[38;5;241m=\u001b[39msample_description,\n\u001b[1;32m    439\u001b[0m     full_design_loc_info\u001b[38;5;241m=\u001b[39mfull_design_loc\u001b[38;5;241m.\u001b[39mdesign_info,\n\u001b[0;32m   (...)\u001b[0m\n\u001b[1;32m    442\u001b[0m     reduced_estim\u001b[38;5;241m=\u001b[39mreduced_model,\n\u001b[1;32m    443\u001b[0m )\n",
      "File \u001b[0;32m/mnt/isilon/cscb/software/diffxpy/diffxpy/testing/tests.py:177\u001b[0m, in \u001b[0;36m_fit\u001b[0;34m(noise_model, data, design_loc, design_scale, design_loc_names, design_scale_names, constraints_loc, constraints_scale, init_model, init_a, init_b, gene_names, size_factors, batch_size, backend, training_strategy, quick_scale, train_args, close_session, dtype)\u001b[0m\n\u001b[1;32m    174\u001b[0m \u001b[38;5;28;01melse\u001b[39;00m:\n\u001b[1;32m    175\u001b[0m     \u001b[38;5;28;01mraise\u001b[39;00m \u001b[38;5;167;01mValueError\u001b[39;00m(\u001b[38;5;124m'\u001b[39m\u001b[38;5;124mbackend=\u001b[39m\u001b[38;5;124m\"\u001b[39m\u001b[38;5;132;01m%s\u001b[39;00m\u001b[38;5;124m\"\u001b[39m\u001b[38;5;124m not recognized.\u001b[39m\u001b[38;5;124m'\u001b[39m \u001b[38;5;241m%\u001b[39m backend)\n\u001b[0;32m--> 177\u001b[0m input_data \u001b[38;5;241m=\u001b[39m \u001b[43mInputDataGLM\u001b[49m\u001b[43m(\u001b[49m\n\u001b[1;32m    178\u001b[0m \u001b[43m    \u001b[49m\u001b[43mdata\u001b[49m\u001b[38;5;241;43m=\u001b[39;49m\u001b[43mdata\u001b[49m\u001b[43m,\u001b[49m\n\u001b[1;32m    179\u001b[0m \u001b[43m    \u001b[49m\u001b[43mdesign_loc\u001b[49m\u001b[38;5;241;43m=\u001b[39;49m\u001b[43mdesign_loc\u001b[49m\u001b[43m,\u001b[49m\n\u001b[1;32m    180\u001b[0m \u001b[43m    \u001b[49m\u001b[43mdesign_scale\u001b[49m\u001b[38;5;241;43m=\u001b[39;49m\u001b[43mdesign_scale\u001b[49m\u001b[43m,\u001b[49m\n\u001b[1;32m    181\u001b[0m \u001b[43m    \u001b[49m\u001b[43mdesign_loc_names\u001b[49m\u001b[38;5;241;43m=\u001b[39;49m\u001b[43mdesign_loc_names\u001b[49m\u001b[43m,\u001b[49m\n\u001b[1;32m    182\u001b[0m \u001b[43m    \u001b[49m\u001b[43mdesign_scale_names\u001b[49m\u001b[38;5;241;43m=\u001b[39;49m\u001b[43mdesign_scale_names\u001b[49m\u001b[43m,\u001b[49m\n\u001b[1;32m    183\u001b[0m \u001b[43m    \u001b[49m\u001b[43mconstraints_loc\u001b[49m\u001b[38;5;241;43m=\u001b[39;49m\u001b[43mconstraints_loc\u001b[49m\u001b[43m,\u001b[49m\n\u001b[1;32m    184\u001b[0m \u001b[43m    \u001b[49m\u001b[43mconstraints_scale\u001b[49m\u001b[38;5;241;43m=\u001b[39;49m\u001b[43mconstraints_scale\u001b[49m\u001b[43m,\u001b[49m\n\u001b[1;32m    185\u001b[0m \u001b[43m    \u001b[49m\u001b[43msize_factors\u001b[49m\u001b[38;5;241;43m=\u001b[39;49m\u001b[43msize_factors\u001b[49m\u001b[43m,\u001b[49m\n\u001b[1;32m    186\u001b[0m \u001b[43m    \u001b[49m\u001b[43mfeature_names\u001b[49m\u001b[38;5;241;43m=\u001b[39;49m\u001b[43mgene_names\u001b[49m\u001b[43m,\u001b[49m\n\u001b[1;32m    187\u001b[0m \u001b[43m    \u001b[49m\u001b[43mchunk_size_cells\u001b[49m\u001b[38;5;241;43m=\u001b[39;49m\u001b[43mchunk_size_cells\u001b[49m\u001b[43m,\u001b[49m\n\u001b[1;32m    188\u001b[0m \u001b[43m    \u001b[49m\u001b[43mchunk_size_genes\u001b[49m\u001b[38;5;241;43m=\u001b[39;49m\u001b[43mchunk_size_genes\u001b[49m\u001b[43m,\u001b[49m\n\u001b[1;32m    189\u001b[0m \u001b[43m    \u001b[49m\u001b[43mas_dask\u001b[49m\u001b[38;5;241;43m=\u001b[39;49m\u001b[43mbackend\u001b[49m\u001b[38;5;241;43m.\u001b[39;49m\u001b[43mlower\u001b[49m\u001b[43m(\u001b[49m\u001b[43m)\u001b[49m\u001b[43m \u001b[49m\u001b[38;5;129;43;01min\u001b[39;49;00m\u001b[43m \u001b[49m\u001b[43m[\u001b[49m\u001b[38;5;124;43m\"\u001b[39;49m\u001b[38;5;124;43mnumpy\u001b[39;49m\u001b[38;5;124;43m\"\u001b[39;49m\u001b[43m]\u001b[49m\u001b[43m,\u001b[49m\n\u001b[1;32m    190\u001b[0m \u001b[43m    \u001b[49m\u001b[43mcast_dtype\u001b[49m\u001b[38;5;241;43m=\u001b[39;49m\u001b[43mdtype\u001b[49m\n\u001b[1;32m    191\u001b[0m \u001b[43m\u001b[49m\u001b[43m)\u001b[49m\n\u001b[1;32m    193\u001b[0m \u001b[38;5;66;03m# Assemble variable key word arguments to constructor of Estimator.\u001b[39;00m\n\u001b[1;32m    194\u001b[0m constructor_args \u001b[38;5;241m=\u001b[39m {}\n",
      "File \u001b[0;32m/mnt/isilon/cscb/software/batchglm/batchglm/models/base_glm/input.py:94\u001b[0m, in \u001b[0;36mInputDataGLM.__init__\u001b[0;34m(self, data, design_loc, design_loc_names, design_scale, design_scale_names, constraints_loc, constraints_scale, size_factors, observation_names, feature_names, chunk_size_cells, chunk_size_genes, as_dask, cast_dtype)\u001b[0m\n\u001b[1;32m     43\u001b[0m \u001b[38;5;124;03m\"\"\"\u001b[39;00m\n\u001b[1;32m     44\u001b[0m \u001b[38;5;124;03mCreate a new InputData object.\u001b[39;00m\n\u001b[1;32m     45\u001b[0m \n\u001b[0;32m   (...)\u001b[0m\n\u001b[1;32m     81\u001b[0m \u001b[38;5;124;03m:return: InputData object\u001b[39;00m\n\u001b[1;32m     82\u001b[0m \u001b[38;5;124;03m\"\"\"\u001b[39;00m\n\u001b[1;32m     83\u001b[0m InputDataBase\u001b[38;5;241m.\u001b[39m\u001b[38;5;21m__init__\u001b[39m(\n\u001b[1;32m     84\u001b[0m     \u001b[38;5;28mself\u001b[39m\u001b[38;5;241m=\u001b[39m\u001b[38;5;28mself\u001b[39m,\n\u001b[1;32m     85\u001b[0m     data\u001b[38;5;241m=\u001b[39mdata,\n\u001b[0;32m   (...)\u001b[0m\n\u001b[1;32m     91\u001b[0m     as_dask\u001b[38;5;241m=\u001b[39mas_dask\n\u001b[1;32m     92\u001b[0m )\n\u001b[0;32m---> 94\u001b[0m design_loc, design_loc_names \u001b[38;5;241m=\u001b[39m \u001b[43mparse_design\u001b[49m\u001b[43m(\u001b[49m\n\u001b[1;32m     95\u001b[0m \u001b[43m    \u001b[49m\u001b[43mdesign_matrix\u001b[49m\u001b[38;5;241;43m=\u001b[39;49m\u001b[43mdesign_loc\u001b[49m\u001b[43m,\u001b[49m\n\u001b[1;32m     96\u001b[0m \u001b[43m    \u001b[49m\u001b[43mparam_names\u001b[49m\u001b[38;5;241;43m=\u001b[39;49m\u001b[43mdesign_loc_names\u001b[49m\n\u001b[1;32m     97\u001b[0m \u001b[43m\u001b[49m\u001b[43m)\u001b[49m\n\u001b[1;32m     98\u001b[0m design_scale, design_scale_names \u001b[38;5;241m=\u001b[39m parse_design(\n\u001b[1;32m     99\u001b[0m     design_matrix\u001b[38;5;241m=\u001b[39mdesign_scale,\n\u001b[1;32m    100\u001b[0m     param_names\u001b[38;5;241m=\u001b[39mdesign_scale_names\n\u001b[1;32m    101\u001b[0m )\n\u001b[1;32m    103\u001b[0m \u001b[38;5;28;01mif\u001b[39;00m as_dask:\n",
      "File \u001b[0;32m/mnt/isilon/cscb/software/batchglm/batchglm/models/base_glm/utils.py:41\u001b[0m, in \u001b[0;36mparse_design\u001b[0;34m(design_matrix, param_names)\u001b[0m\n\u001b[1;32m     39\u001b[0m     params \u001b[38;5;241m=\u001b[39m \u001b[38;5;28;01mNone\u001b[39;00m\n\u001b[1;32m     40\u001b[0m \u001b[38;5;28;01melse\u001b[39;00m:\n\u001b[0;32m---> 41\u001b[0m     \u001b[38;5;28;01mraise\u001b[39;00m \u001b[38;5;167;01mValueError\u001b[39;00m(\u001b[38;5;124m\"\u001b[39m\u001b[38;5;124mtype \u001b[39m\u001b[38;5;132;01m%s\u001b[39;00m\u001b[38;5;124m not recognized\u001b[39m\u001b[38;5;124m\"\u001b[39m \u001b[38;5;241m%\u001b[39m \u001b[38;5;28mtype\u001b[39m(design_matrix))\n\u001b[1;32m     43\u001b[0m \u001b[38;5;28;01mif\u001b[39;00m param_names \u001b[38;5;129;01mis\u001b[39;00m \u001b[38;5;129;01mnot\u001b[39;00m \u001b[38;5;28;01mNone\u001b[39;00m:\n\u001b[1;32m     44\u001b[0m     \u001b[38;5;28;01mif\u001b[39;00m params \u001b[38;5;129;01mis\u001b[39;00m \u001b[38;5;28;01mNone\u001b[39;00m:\n",
      "\u001b[0;31mValueError\u001b[0m: type <class 'tuple'> not recognized"
     ]
    }
   ],
   "source": [
    "test_lrt = de.test.lrt(\n",
    "   data=tam_data_filter, \n",
    "   full_formula_loc=\"1+TAM_cluster\",\n",
    "   reduced_formula_loc=\"1\"\n",
    ")"
   ]
  },
  {
   "cell_type": "code",
   "execution_count": 32,
   "id": "56ac8a57-3768-4a71-8d79-65475f843dee",
   "metadata": {},
   "outputs": [
    {
     "data": {
      "text/plain": [
       "[2, 1]\n",
       "Categories (2, int64): [1, 2]"
      ]
     },
     "execution_count": 32,
     "metadata": {},
     "output_type": "execute_result"
    }
   ],
   "source": [
    "tam_data_filter.obs.TAM_cluster.unique()"
   ]
  },
  {
   "cell_type": "markdown",
   "id": "bafb8974-0acd-41ac-81ff-35696e8bbecb",
   "metadata": {},
   "source": [
    "## What's the background DEG of TAM vs everything else?"
   ]
  },
  {
   "cell_type": "code",
   "execution_count": 14,
   "id": "a125de44-bbc5-43c3-9c78-8be525323e80",
   "metadata": {},
   "outputs": [
    {
     "data": {
      "text/html": [
       "<div>\n",
       "<style scoped>\n",
       "    .dataframe tbody tr th:only-of-type {\n",
       "        vertical-align: middle;\n",
       "    }\n",
       "\n",
       "    .dataframe tbody tr th {\n",
       "        vertical-align: top;\n",
       "    }\n",
       "\n",
       "    .dataframe thead th {\n",
       "        text-align: right;\n",
       "    }\n",
       "</style>\n",
       "<table border=\"1\" class=\"dataframe\">\n",
       "  <thead>\n",
       "    <tr style=\"text-align: right;\">\n",
       "      <th></th>\n",
       "      <th>cluster</th>\n",
       "      <th>x</th>\n",
       "      <th>y</th>\n",
       "      <th>global_x</th>\n",
       "      <th>global_y</th>\n",
       "      <th>n_genes</th>\n",
       "      <th>n_genes_by_counts</th>\n",
       "      <th>total_counts</th>\n",
       "      <th>leiden</th>\n",
       "      <th>cell_type</th>\n",
       "      <th>TAM_cluster</th>\n",
       "    </tr>\n",
       "  </thead>\n",
       "  <tbody>\n",
       "    <tr>\n",
       "      <th>1</th>\n",
       "      <td>3</td>\n",
       "      <td>9814.177667</td>\n",
       "      <td>34514.342452</td>\n",
       "      <td>1059.931906</td>\n",
       "      <td>3727.551510</td>\n",
       "      <td>28</td>\n",
       "      <td>28</td>\n",
       "      <td>48.0</td>\n",
       "      <td>1</td>\n",
       "      <td>Adrn_Cortex</td>\n",
       "      <td>0</td>\n",
       "    </tr>\n",
       "    <tr>\n",
       "      <th>2</th>\n",
       "      <td>3</td>\n",
       "      <td>9682.431879</td>\n",
       "      <td>34771.178573</td>\n",
       "      <td>1045.703352</td>\n",
       "      <td>3755.289830</td>\n",
       "      <td>39</td>\n",
       "      <td>39</td>\n",
       "      <td>66.0</td>\n",
       "      <td>1</td>\n",
       "      <td>Adrn_Cortex</td>\n",
       "      <td>0</td>\n",
       "    </tr>\n",
       "    <tr>\n",
       "      <th>3</th>\n",
       "      <td>1</td>\n",
       "      <td>9885.160007</td>\n",
       "      <td>34576.806317</td>\n",
       "      <td>1067.598004</td>\n",
       "      <td>3734.297613</td>\n",
       "      <td>94</td>\n",
       "      <td>94</td>\n",
       "      <td>264.0</td>\n",
       "      <td>10</td>\n",
       "      <td>Adrenergic</td>\n",
       "      <td>0</td>\n",
       "    </tr>\n",
       "    <tr>\n",
       "      <th>4</th>\n",
       "      <td>2</td>\n",
       "      <td>9191.688652</td>\n",
       "      <td>35310.791135</td>\n",
       "      <td>992.703047</td>\n",
       "      <td>3813.568027</td>\n",
       "      <td>39</td>\n",
       "      <td>39</td>\n",
       "      <td>64.0</td>\n",
       "      <td>1</td>\n",
       "      <td>Adrn_Cortex</td>\n",
       "      <td>0</td>\n",
       "    </tr>\n",
       "    <tr>\n",
       "      <th>5</th>\n",
       "      <td>3</td>\n",
       "      <td>9628.535631</td>\n",
       "      <td>34824.350603</td>\n",
       "      <td>1039.882553</td>\n",
       "      <td>3761.032413</td>\n",
       "      <td>75</td>\n",
       "      <td>75</td>\n",
       "      <td>186.0</td>\n",
       "      <td>2</td>\n",
       "      <td>Adrenergic</td>\n",
       "      <td>0</td>\n",
       "    </tr>\n",
       "  </tbody>\n",
       "</table>\n",
       "</div>"
      ],
      "text/plain": [
       "   cluster            x             y     global_x     global_y  n_genes  \\\n",
       "1        3  9814.177667  34514.342452  1059.931906  3727.551510       28   \n",
       "2        3  9682.431879  34771.178573  1045.703352  3755.289830       39   \n",
       "3        1  9885.160007  34576.806317  1067.598004  3734.297613       94   \n",
       "4        2  9191.688652  35310.791135   992.703047  3813.568027       39   \n",
       "5        3  9628.535631  34824.350603  1039.882553  3761.032413       75   \n",
       "\n",
       "   n_genes_by_counts  total_counts leiden    cell_type  TAM_cluster  \n",
       "1                 28          48.0      1  Adrn_Cortex            0  \n",
       "2                 39          66.0      1  Adrn_Cortex            0  \n",
       "3                 94         264.0     10   Adrenergic            0  \n",
       "4                 39          64.0      1  Adrn_Cortex            0  \n",
       "5                 75         186.0      2   Adrenergic            0  "
      ]
     },
     "execution_count": 14,
     "metadata": {},
     "output_type": "execute_result"
    }
   ],
   "source": [
    "data.obs.head()"
   ]
  },
  {
   "cell_type": "code",
   "execution_count": 15,
   "id": "83646331-c56c-4595-b8af-79cf6d57298c",
   "metadata": {},
   "outputs": [
    {
     "data": {
      "text/plain": [
       "['Adrn_Cortex', 'Adrenergic', 'T_Cell', 'Fibroblast', 'NK_Cell', 'Endothelial', 'Macrophage_TAM', 'B_Cell', 'unknown']\n",
       "Categories (9, object): ['Adrenergic', 'Adrn_Cortex', 'B_Cell', 'Endothelial', ..., 'Macrophage_TAM', 'NK_Cell', 'T_Cell', 'unknown']"
      ]
     },
     "execution_count": 15,
     "metadata": {},
     "output_type": "execute_result"
    }
   ],
   "source": [
    "data.obs.cell_type.unique()"
   ]
  },
  {
   "cell_type": "code",
   "execution_count": 16,
   "id": "c117a797-c81e-4c73-ae04-32e4c08a921c",
   "metadata": {},
   "outputs": [],
   "source": [
    "data.obs['is_TAM'] = data.obs['cell_type'] == 'Macrophage_TAM'"
   ]
  },
  {
   "cell_type": "code",
   "execution_count": 17,
   "id": "54e89821-bc41-41d5-b54c-2dc42733d64f",
   "metadata": {},
   "outputs": [],
   "source": [
    "data.obs['is_TAM'] = data.obs['is_TAM'].astype('category')"
   ]
  },
  {
   "cell_type": "code",
   "execution_count": 18,
   "id": "6881bd7f-795d-496c-91dc-58222539b5b6",
   "metadata": {},
   "outputs": [],
   "source": [
    "test_tt = de.test.t_test(\n",
    "    data=data,\n",
    "    grouping=\"is_TAM\",\n",
    "    is_logged=True\n",
    ")"
   ]
  },
  {
   "cell_type": "code",
   "execution_count": 19,
   "id": "564f0c69-7404-4b1a-85b2-ad7dfc32f95b",
   "metadata": {},
   "outputs": [
    {
     "data": {
      "image/png": "[encoded data removed]",
      "text/plain": [
       "<Figure size 640x480 with 1 Axes>"
      ]
     },
     "metadata": {},
     "output_type": "display_data"
    }
   ],
   "source": [
    "test_tt.plot_volcano(corrected_pval=True, min_fc=1.05, alpha=0.05, size=20)"
   ]
  },
  {
   "cell_type": "code",
   "execution_count": 20,
   "id": "cf5d9de3-05be-4c52-ac9d-3b58e12033ee",
   "metadata": {},
   "outputs": [],
   "source": [
    "test_tt.summary().to_csv(\"outs/global_MAC_DEG_results.csv\")"
   ]
  },
  {
   "cell_type": "markdown",
   "id": "522eb262-92f3-41d8-9090-2afcb977a06e",
   "metadata": {},
   "source": [
    "### Previous results aren't helpful"
   ]
  },
  {
   "cell_type": "code",
   "execution_count": 31,
   "id": "e869979c-15d5-46d3-bc14-e4fd4bcdf731",
   "metadata": {},
   "outputs": [],
   "source": [
    "# load scanpy mac. marker\n",
    "deg_in = pd.read_csv(\"outs/global_mac_DEG.csv\")\n",
    "mac_markers = deg_in['Macrophage_TAM'][0:40]"
   ]
  },
  {
   "cell_type": "code",
   "execution_count": 26,
   "id": "a479f240-a03a-432c-87c2-ae2e794bc7eb",
   "metadata": {},
   "outputs": [],
   "source": [
    "deg_res = test_tt.summary()\n",
    "deg_res.set_index('gene', inplace=True)"
   ]
  },
  {
   "cell_type": "code",
   "execution_count": 32,
   "id": "da201d25-be41-4517-ba03-4721bd29289e",
   "metadata": {},
   "outputs": [],
   "source": [
    "deg_res.loc[mac_markers, :].to_csv('outs/TAM_cluster_deg_SignatureFilter.csv')"
   ]
  },
  {
   "cell_type": "code",
   "execution_count": null,
   "id": "ed60a9b4-89db-4a48-9af5-05409b438933",
   "metadata": {},
   "outputs": [],
   "source": []
  }
 ],
 "metadata": {
  "kernelspec": {
   "display_name": "Python [conda env:diffxpy]",
   "language": "python",
   "name": "conda-env-diffxpy-py"
  },
  "language_info": {
   "codemirror_mode": {
    "name": "ipython",
    "version": 3
   },
   "file_extension": ".py",
   "mimetype": "text/x-python",
   "name": "python",
   "nbconvert_exporter": "python",
   "pygments_lexer": "ipython3",
   "version": "3.10.6"
  }
 },
 "nbformat": 4,
 "nbformat_minor": 5
}
