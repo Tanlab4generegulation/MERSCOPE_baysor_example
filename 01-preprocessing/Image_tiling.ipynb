{
 "cells": [
  {
   "cell_type": "markdown",
   "id": "ad69b23f-5628-436e-b4c9-7c872ec3eb43",
   "metadata": {},
   "source": [
    "# The objective here is to split the massive MERSCOPE data into smaller tiles\n",
    "\n",
    "tiles should overlap 5%"
   ]
  },
  {
   "cell_type": "code",
   "execution_count": 1,
   "id": "30c5d981-16b9-490c-8579-b9df6ab7ed75",
   "metadata": {},
   "outputs": [],
   "source": [
    "import pandas as pd\n",
    "import numpy as np"
   ]
  },
  {
   "cell_type": "code",
   "execution_count": 2,
   "id": "e8b07918-7294-433a-baf6-d79a60f2b742",
   "metadata": {},
   "outputs": [],
   "source": [
    "dat = pd.read_csv('../data/detected_transcripts_wPixel.csv')"
   ]
  },
  {
   "cell_type": "code",
   "execution_count": 4,
   "id": "ad850705-101a-4ba5-8e3e-069491ffc0a2",
   "metadata": {},
   "outputs": [
    {
     "data": {
      "text/html": [
       "<div>\n",
       "<style scoped>\n",
       "    .dataframe tbody tr th:only-of-type {\n",
       "        vertical-align: middle;\n",
       "    }\n",
       "\n",
       "    .dataframe tbody tr th {\n",
       "        vertical-align: top;\n",
       "    }\n",
       "\n",
       "    .dataframe thead th {\n",
       "        text-align: right;\n",
       "    }\n",
       "</style>\n",
       "<table border=\"1\" class=\"dataframe\">\n",
       "  <thead>\n",
       "    <tr style=\"text-align: right;\">\n",
       "      <th></th>\n",
       "      <th>Unnamed: 0</th>\n",
       "      <th>barcode_id</th>\n",
       "      <th>global_x</th>\n",
       "      <th>global_y</th>\n",
       "      <th>global_z</th>\n",
       "      <th>x</th>\n",
       "      <th>y</th>\n",
       "      <th>fov</th>\n",
       "      <th>global_xpixel</th>\n",
       "      <th>global_ypixel</th>\n",
       "    </tr>\n",
       "  </thead>\n",
       "  <tbody>\n",
       "    <tr>\n",
       "      <th>count</th>\n",
       "      <td>4.446952e+07</td>\n",
       "      <td>4.446952e+07</td>\n",
       "      <td>4.446952e+07</td>\n",
       "      <td>4.446952e+07</td>\n",
       "      <td>4.446952e+07</td>\n",
       "      <td>4.446952e+07</td>\n",
       "      <td>4.446952e+07</td>\n",
       "      <td>4.446952e+07</td>\n",
       "      <td>4.446952e+07</td>\n",
       "      <td>4.446952e+07</td>\n",
       "    </tr>\n",
       "    <tr>\n",
       "      <th>mean</th>\n",
       "      <td>8.004014e+05</td>\n",
       "      <td>1.783306e+02</td>\n",
       "      <td>6.114530e+03</td>\n",
       "      <td>4.324178e+03</td>\n",
       "      <td>3.100593e+00</td>\n",
       "      <td>1.018254e+03</td>\n",
       "      <td>1.045664e+03</td>\n",
       "      <td>7.274079e+02</td>\n",
       "      <td>5.661598e+04</td>\n",
       "      <td>4.003866e+04</td>\n",
       "    </tr>\n",
       "    <tr>\n",
       "      <th>std</th>\n",
       "      <td>5.252250e+05</td>\n",
       "      <td>1.153013e+02</td>\n",
       "      <td>2.221352e+03</td>\n",
       "      <td>1.738564e+03</td>\n",
       "      <td>1.983071e+00</td>\n",
       "      <td>5.299624e+02</td>\n",
       "      <td>5.247331e+02</td>\n",
       "      <td>3.209929e+02</td>\n",
       "      <td>2.056806e+04</td>\n",
       "      <td>1.609781e+04</td>\n",
       "    </tr>\n",
       "    <tr>\n",
       "      <th>min</th>\n",
       "      <td>0.000000e+00</td>\n",
       "      <td>0.000000e+00</td>\n",
       "      <td>1.107802e+01</td>\n",
       "      <td>2.008378e+01</td>\n",
       "      <td>0.000000e+00</td>\n",
       "      <td>9.800000e+01</td>\n",
       "      <td>9.800000e+01</td>\n",
       "      <td>0.000000e+00</td>\n",
       "      <td>1.025742e+02</td>\n",
       "      <td>1.859608e+02</td>\n",
       "    </tr>\n",
       "    <tr>\n",
       "      <th>25%</th>\n",
       "      <td>3.478990e+05</td>\n",
       "      <td>7.600000e+01</td>\n",
       "      <td>4.488138e+03</td>\n",
       "      <td>2.969954e+03</td>\n",
       "      <td>1.000000e+00</td>\n",
       "      <td>5.631215e+02</td>\n",
       "      <td>6.017426e+02</td>\n",
       "      <td>4.720000e+02</td>\n",
       "      <td>4.155680e+04</td>\n",
       "      <td>2.749956e+04</td>\n",
       "    </tr>\n",
       "    <tr>\n",
       "      <th>50%</th>\n",
       "      <td>7.928260e+05</td>\n",
       "      <td>1.880000e+02</td>\n",
       "      <td>6.050912e+03</td>\n",
       "      <td>4.351832e+03</td>\n",
       "      <td>3.000000e+00</td>\n",
       "      <td>1.014617e+03</td>\n",
       "      <td>1.059576e+03</td>\n",
       "      <td>7.380000e+02</td>\n",
       "      <td>5.602693e+04</td>\n",
       "      <td>4.029471e+04</td>\n",
       "    </tr>\n",
       "    <tr>\n",
       "      <th>75%</th>\n",
       "      <td>1.160546e+06</td>\n",
       "      <td>2.650000e+02</td>\n",
       "      <td>7.810274e+03</td>\n",
       "      <td>5.788341e+03</td>\n",
       "      <td>5.000000e+00</td>\n",
       "      <td>1.475154e+03</td>\n",
       "      <td>1.494643e+03</td>\n",
       "      <td>1.005000e+03</td>\n",
       "      <td>7.231730e+04</td>\n",
       "      <td>5.359572e+04</td>\n",
       "    </tr>\n",
       "    <tr>\n",
       "      <th>max</th>\n",
       "      <td>2.359382e+06</td>\n",
       "      <td>4.610000e+02</td>\n",
       "      <td>1.161126e+04</td>\n",
       "      <td>7.610976e+03</td>\n",
       "      <td>6.000000e+00</td>\n",
       "      <td>1.950000e+03</td>\n",
       "      <td>1.950000e+03</td>\n",
       "      <td>1.293000e+03</td>\n",
       "      <td>1.075116e+05</td>\n",
       "      <td>7.047195e+04</td>\n",
       "    </tr>\n",
       "  </tbody>\n",
       "</table>\n",
       "</div>"
      ],
      "text/plain": [
       "         Unnamed: 0    barcode_id      global_x      global_y      global_z  \\\n",
       "count  4.446952e+07  4.446952e+07  4.446952e+07  4.446952e+07  4.446952e+07   \n",
       "mean   8.004014e+05  1.783306e+02  6.114530e+03  4.324178e+03  3.100593e+00   \n",
       "std    5.252250e+05  1.153013e+02  2.221352e+03  1.738564e+03  1.983071e+00   \n",
       "min    0.000000e+00  0.000000e+00  1.107802e+01  2.008378e+01  0.000000e+00   \n",
       "25%    3.478990e+05  7.600000e+01  4.488138e+03  2.969954e+03  1.000000e+00   \n",
       "50%    7.928260e+05  1.880000e+02  6.050912e+03  4.351832e+03  3.000000e+00   \n",
       "75%    1.160546e+06  2.650000e+02  7.810274e+03  5.788341e+03  5.000000e+00   \n",
       "max    2.359382e+06  4.610000e+02  1.161126e+04  7.610976e+03  6.000000e+00   \n",
       "\n",
       "                  x             y           fov  global_xpixel  global_ypixel  \n",
       "count  4.446952e+07  4.446952e+07  4.446952e+07   4.446952e+07   4.446952e+07  \n",
       "mean   1.018254e+03  1.045664e+03  7.274079e+02   5.661598e+04   4.003866e+04  \n",
       "std    5.299624e+02  5.247331e+02  3.209929e+02   2.056806e+04   1.609781e+04  \n",
       "min    9.800000e+01  9.800000e+01  0.000000e+00   1.025742e+02   1.859608e+02  \n",
       "25%    5.631215e+02  6.017426e+02  4.720000e+02   4.155680e+04   2.749956e+04  \n",
       "50%    1.014617e+03  1.059576e+03  7.380000e+02   5.602693e+04   4.029471e+04  \n",
       "75%    1.475154e+03  1.494643e+03  1.005000e+03   7.231730e+04   5.359572e+04  \n",
       "max    1.950000e+03  1.950000e+03  1.293000e+03   1.075116e+05   7.047195e+04  "
      ]
     },
     "execution_count": 4,
     "metadata": {},
     "output_type": "execute_result"
    }
   ],
   "source": [
    "dat.describe()"
   ]
  },
  {
   "cell_type": "code",
   "execution_count": 5,
   "id": "0d531b11-4dd8-4a13-b630-fea9ff4fff04",
   "metadata": {},
   "outputs": [
    {
     "name": "stdout",
     "output_type": "stream",
     "text": [
      "107409.01039032046 70285.98771016506\n"
     ]
    }
   ],
   "source": [
    "# getting coordinate limits\n",
    "x_range = dat.global_xpixel.max() - dat.global_xpixel.min()\n",
    "y_range = dat.global_ypixel.max() - dat.global_ypixel.min()\n",
    "print(x_range, y_range)"
   ]
  },
  {
   "cell_type": "code",
   "execution_count": 9,
   "id": "785fae0a-1c70-4406-937a-aa613acf7aee",
   "metadata": {},
   "outputs": [],
   "source": [
    "# maybe split axes into 4...\n",
    "y_tile_start = np.floor(y_range / 4)\n",
    "x_tile_start = np.floor(x_range / 4)"
   ]
  },
  {
   "cell_type": "code",
   "execution_count": 14,
   "id": "7a7e09e1-2c1f-45d2-87e5-534974010401",
   "metadata": {},
   "outputs": [],
   "source": [
    "y_bump = y_tile_start*0.05\n",
    "x_bump = x_tile_start*0.05"
   ]
  },
  {
   "cell_type": "code",
   "execution_count": 15,
   "id": "0bf459ac-ee6b-482c-9b06-cd6ab77ac3ae",
   "metadata": {},
   "outputs": [
    {
     "data": {
      "text/plain": [
       "[(-1342.6000000000001, 28194.6, -878.5500000000001, 18449.55),\n",
       " (-1342.6000000000001, 28194.6, 16692.45, 36020.55),\n",
       " (-1342.6000000000001, 28194.6, 34263.45, 53591.55),\n",
       " (-1342.6000000000001, 28194.6, 51834.45, 71162.55),\n",
       " (-1342.6000000000001, 28194.6, 69405.45, 71350.49854712789),\n",
       " (25509.4, 55046.6, -878.5500000000001, 18449.55),\n",
       " (25509.4, 55046.6, 16692.45, 36020.55),\n",
       " (25509.4, 55046.6, 34263.45, 53591.55),\n",
       " (25509.4, 55046.6, 51834.45, 71162.55),\n",
       " (25509.4, 55046.6, 69405.45, 71350.49854712789),\n",
       " (52361.4, 81898.6, -878.5500000000001, 18449.55),\n",
       " (52361.4, 81898.6, 16692.45, 36020.55),\n",
       " (52361.4, 81898.6, 34263.45, 53591.55),\n",
       " (52361.4, 81898.6, 51834.45, 71162.55),\n",
       " (52361.4, 81898.6, 69405.45, 71350.49854712789),\n",
       " (79213.4, 108750.6, -878.5500000000001, 18449.55),\n",
       " (79213.4, 108750.6, 16692.45, 36020.55),\n",
       " (79213.4, 108750.6, 34263.45, 53591.55),\n",
       " (79213.4, 108750.6, 51834.45, 71162.55),\n",
       " (79213.4, 108750.6, 69405.45, 71350.49854712789),\n",
       " (106065.4, 108854.18456156076, -878.5500000000001, 18449.55),\n",
       " (106065.4, 108854.18456156076, 16692.45, 36020.55),\n",
       " (106065.4, 108854.18456156076, 34263.45, 53591.55),\n",
       " (106065.4, 108854.18456156076, 51834.45, 71162.55),\n",
       " (106065.4, 108854.18456156076, 69405.45, 71350.49854712789)]"
      ]
     },
     "execution_count": 15,
     "metadata": {},
     "output_type": "execute_result"
    }
   ],
   "source": [
    "coords = []\n",
    "for i in range(5):\n",
    "    for j in range(5):\n",
    "        if i == 4 and j == 4:\n",
    "            x1 = x_tile_start*i - x_bump\n",
    "            x2 = dat.global_xpixel.max() + x_bump\n",
    "            y1 = y_tile_start*j - y_bump\n",
    "            y2 = dat.global_ypixel.max() + y_bump\n",
    "        elif i == 4:\n",
    "            x1 = x_tile_start*i - x_bump\n",
    "            x2 = dat.global_xpixel.max() + x_bump\n",
    "            y1 = y_tile_start*j - y_bump\n",
    "            y2 = y_tile_start*(j+1) + y_bump\n",
    "        elif j == 4:\n",
    "            x1 = x_tile_start*i - x_bump\n",
    "            x2 = x_tile_start*(i+1) + x_bump\n",
    "            y1 = y_tile_start*j - y_bump\n",
    "            y2 = dat.global_ypixel.max() + y_bump\n",
    "        else:\n",
    "            x1 = x_tile_start*i - x_bump\n",
    "            x2 = x_tile_start*(i+1) + x_bump\n",
    "            y1 = y_tile_start*j - y_bump\n",
    "            y2 = y_tile_start*(j+1) + y_bump\n",
    "        coords.append((x1, x2, y1, y2))\n",
    "coords"
   ]
  },
  {
   "cell_type": "code",
   "execution_count": 29,
   "id": "6800f64d-cd1b-4878-91b3-b05a055859bc",
   "metadata": {},
   "outputs": [
    {
     "name": "stdout",
     "output_type": "stream",
     "text": [
      "(-1342.6000000000001, 28194.6, -878.5500000000001, 18449.55)\n",
      "(51352, 12)\n",
      "(-1342.6000000000001, 28194.6, 16692.45, 36020.55)\n",
      "(770558, 12)\n",
      "(-1342.6000000000001, 28194.6, 34263.45, 53591.55)\n",
      "(1022170, 12)\n",
      "(-1342.6000000000001, 28194.6, 51834.45, 71162.55)\n",
      "(2653334, 12)\n",
      "(-1342.6000000000001, 28194.6, 69405.45, 71350.49854712789)\n",
      "(121816, 12)\n",
      "(25509.4, 55046.6, -878.5500000000001, 18449.55)\n",
      "(2302025, 12)\n",
      "(25509.4, 55046.6, 16692.45, 36020.55)\n",
      "(2956229, 12)\n",
      "(25509.4, 55046.6, 34263.45, 53591.55)\n",
      "(6228300, 12)\n",
      "(25509.4, 55046.6, 51834.45, 71162.55)\n",
      "(8810600, 12)\n",
      "(25509.4, 55046.6, 69405.45, 71350.49854712789)\n",
      "(287828, 12)\n",
      "(52361.4, 81898.6, -878.5500000000001, 18449.55)\n",
      "(2721606, 12)\n",
      "(52361.4, 81898.6, 16692.45, 36020.55)\n",
      "(7660187, 12)\n",
      "(52361.4, 81898.6, 34263.45, 53591.55)\n",
      "(7740502, 12)\n",
      "(52361.4, 81898.6, 51834.45, 71162.55)\n",
      "(2853597, 12)\n",
      "(52361.4, 81898.6, 69405.45, 71350.49854712789)\n",
      "(79213.4, 108750.6, -878.5500000000001, 18449.55)\n",
      "(350131, 12)\n",
      "(79213.4, 108750.6, 16692.45, 36020.55)\n",
      "(5182091, 12)\n",
      "(79213.4, 108750.6, 34263.45, 53591.55)\n",
      "(2196623, 12)\n",
      "(79213.4, 108750.6, 51834.45, 71162.55)\n",
      "(79213.4, 108750.6, 69405.45, 71350.49854712789)\n",
      "(106065.4, 108854.18456156076, -878.5500000000001, 18449.55)\n",
      "(106065.4, 108854.18456156076, 16692.45, 36020.55)\n",
      "(4298, 12)\n",
      "(106065.4, 108854.18456156076, 34263.45, 53591.55)\n",
      "(106065.4, 108854.18456156076, 51834.45, 71162.55)\n",
      "(106065.4, 108854.18456156076, 69405.45, 71350.49854712789)\n"
     ]
    }
   ],
   "source": [
    "for c_i in range(len(coords)):\n",
    "    c = coords[c_i]\n",
    "    print(c)\n",
    "    tile = dat.loc[(dat['global_xpixel'] > c[0]) & (dat['global_xpixel'] < c[1]), :]\n",
    "    tile = tile.loc[(tile['global_ypixel'] > c[2]) & (tile['global_ypixel'] < c[3]), :]\n",
    "    if tile.shape[0] > 50:\n",
    "        print(tile.shape)\n",
    "        tile.to_csv('../data/tiled_transcripts/tile_{}.csv'.format(c_i))"
   ]
  },
  {
   "cell_type": "code",
   "execution_count": 25,
   "id": "c0b9c404-64d8-45d4-ad0f-c08ae869866c",
   "metadata": {},
   "outputs": [],
   "source": [
    "tile = dat.loc[(dat['global_xpixel'] > coords[1][0]) & (dat['global_xpixel'] < coords[1][1]), :]"
   ]
  },
  {
   "cell_type": "code",
   "execution_count": 26,
   "id": "65366415-6502-4fd7-9f43-bb633e3ab9e5",
   "metadata": {},
   "outputs": [],
   "source": [
    "tile = tile.loc[(tile['global_ypixel'] > coords[1][2]) & (tile['global_ypixel'] < coords[1][3]), :]"
   ]
  },
  {
   "cell_type": "code",
   "execution_count": 27,
   "id": "cc1cb815-6efd-4e03-8323-58de4ea67c4d",
   "metadata": {},
   "outputs": [
    {
     "data": {
      "text/plain": [
       "(770558, 12)"
      ]
     },
     "execution_count": 27,
     "metadata": {},
     "output_type": "execute_result"
    }
   ],
   "source": [
    "tile.shape"
   ]
  },
  {
   "cell_type": "code",
   "execution_count": null,
   "id": "fa134dfd-252b-4918-8503-5710d885aafd",
   "metadata": {},
   "outputs": [],
   "source": []
  }
 ],
 "metadata": {
  "kernelspec": {
   "display_name": "Python [conda env:scanpy-basic]",
   "language": "python",
   "name": "conda-env-scanpy-basic-py"
  },
  "language_info": {
   "codemirror_mode": {
    "name": "ipython",
    "version": 3
   },
   "file_extension": ".py",
   "mimetype": "text/x-python",
   "name": "python",
   "nbconvert_exporter": "python",
   "pygments_lexer": "ipython3",
   "version": "3.9.7"
  }
 },
 "nbformat": 4,
 "nbformat_minor": 5
}
